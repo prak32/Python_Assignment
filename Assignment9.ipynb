{
  "nbformat": 4,
  "nbformat_minor": 0,
  "metadata": {
    "colab": {
      "name": "Assignment9.ipynb",
      "provenance": [],
      "collapsed_sections": [],
      "mount_file_id": "17ROjnFIqlVU8F_mGk31Pa1Y-D-0fu3K6",
      "authorship_tag": "ABX9TyOGc7zqecYDehUdayfpwy3u",
      "include_colab_link": true
    },
    "kernelspec": {
      "name": "python3",
      "display_name": "Python 3"
    },
    "language_info": {
      "name": "python"
    }
  },
  "cells": [
    {
      "cell_type": "markdown",
      "metadata": {
        "id": "view-in-github",
        "colab_type": "text"
      },
      "source": [
        "<a href=\"https://colab.research.google.com/github/prak32/Python_Assignment/blob/master/Assignment9.ipynb\" target=\"_parent\"><img src=\"https://colab.research.google.com/assets/colab-badge.svg\" alt=\"Open In Colab\"/></a>"
      ]
    },
    {
      "cell_type": "markdown",
      "metadata": {
        "id": "-5dgEZh-RL-5"
      },
      "source": [
        "#Q.no.1."
      ]
    },
    {
      "cell_type": "markdown",
      "metadata": {
        "id": "Kegz6YEWExfi"
      },
      "source": [
        ""
      ]
    },
    {
      "cell_type": "code",
      "metadata": {
        "colab": {
          "base_uri": "https://localhost:8080/"
        },
        "id": "ZqqrhmfMeH8n",
        "outputId": "1b2fde12-bc14-4694-edcf-412988baf00b"
      },
      "source": [
        "file = open(\"/content/drive/MyDrive/Colab Notebooks/Python_course/Course _I/Files/alice.txt\", \"rt\")\n",
        "data = file.read()\n",
        "words = data.split()\n",
        "print('Number of words in alice.text file :', len(words))\n"
      ],
      "execution_count": null,
      "outputs": [
        {
          "output_type": "stream",
          "text": [
            "Number of words in alice.text file : 253\n"
          ],
          "name": "stdout"
        }
      ]
    },
    {
      "cell_type": "markdown",
      "metadata": {
        "id": "_PtIbI9xEzeY"
      },
      "source": [
        ""
      ]
    },
    {
      "cell_type": "code",
      "metadata": {
        "colab": {
          "base_uri": "https://localhost:8080/"
        },
        "id": "E-Wuak1f8gX7",
        "outputId": "f577122a-bd08-42e1-86fe-14dcf8cc1b92"
      },
      "source": [
        "from collections import Counter\n",
        "def word_count(fname):\n",
        "        with open(fname) as f:\n",
        "                return Counter(f.read().split())\n",
        "\n",
        "print(\"Unique words and the frequencies in the file :\",word_count(\"/content/drive/MyDrive/Colab Notebooks/Python_course/Course _I/Files/alice.txt\"))"
      ],
      "execution_count": null,
      "outputs": [
        {
          "output_type": "stream",
          "text": [
            "Unique words and the frequencies in the file : Counter({'the': 13, 'to': 9, 'of': 8, 'a': 8, 'her': 7, 'and': 7, 'she': 7, 'it': 7, 'was': 5, 'Alice': 4, 'very': 4, 'or': 4, 'in': 4, 'it,': 4, 'had': 3, 'but': 3, 'Rabbit': 3, 'with': 3, 'out': 3, 'at': 3, 'by': 2, 'sister': 2, 'nothing': 2, 'pictures': 2, 'thought': 2, 'mind': 2, 'for': 2, 'be': 2, 'when': 2, 'ran': 2, 'so': 2, 'dear!': 2, 'that': 2, 'time': 2, 'watch': 2, 'waistcoat-pocket,': 2, 'across': 2, 'beginning': 1, 'get': 1, 'tired': 1, 'sitting': 1, 'on': 1, 'bank,': 1, 'having': 1, 'do:': 1, 'once': 1, 'twice': 1, 'peeped': 1, 'into': 1, 'book': 1, 'reading,': 1, 'no': 1, 'conversations': 1, '`and': 1, 'what': 1, 'is': 1, 'use': 1, \"book,'\": 1, '`without': 1, \"conversation?'\": 1, 'So': 1, 'considering': 1, 'own': 1, '(as': 1, 'well': 1, 'as': 1, 'could,': 1, 'hot': 1, 'day': 1, 'made': 1, 'feel': 1, 'sleepy': 1, 'stupid),': 1, 'whether': 1, 'pleasure': 1, 'making': 1, 'daisy-chain': 1, 'would': 1, 'worth': 1, 'trouble': 1, 'getting': 1, 'up': 1, 'picking': 1, 'daisies,': 1, 'suddenly': 1, 'White': 1, 'pink': 1, 'eyes': 1, 'close': 1, 'her.': 1, 'There': 1, 'remarkable': 1, 'that;': 1, 'nor': 1, 'did': 1, 'think': 1, 'much': 1, 'way': 1, 'hear': 1, 'say': 1, 'itself,': 1, '`Oh': 1, 'Oh': 1, 'I': 1, 'shall': 1, \"late!'\": 1, '(when': 1, 'over': 1, 'afterwards,': 1, 'occurred': 1, 'ought': 1, 'have': 1, 'wondered': 1, 'this,': 1, 'all': 1, 'seemed': 1, 'quite': 1, 'natural);': 1, 'actually': 1, 'took': 1, 'its': 1, 'looked': 1, 'then': 1, 'hurried': 1, 'on,': 1, 'started': 1, 'feet,': 1, 'flashed': 1, 'never': 1, 'before': 1, 'seen': 1, 'rabbit': 1, 'either': 1, 'take': 1, 'burning': 1, 'curiosity,': 1, 'field': 1, 'after': 1, 'fortunately': 1, 'just': 1, 'see': 1, 'pop': 1, 'down': 1, 'large': 1, 'rabbit-hole': 1, 'under': 1, 'hedge.': 1})\n"
          ],
          "name": "stdout"
        }
      ]
    },
    {
      "cell_type": "code",
      "metadata": {
        "colab": {
          "base_uri": "https://localhost:8080/"
        },
        "id": "fFCv4bLw6a_T",
        "outputId": "dae27102-7744-4ee2-a1a1-fe90dc9a339f"
      },
      "source": [
        "filename = ''\n",
        "try:\n",
        "  with open(filename) as f_obj:\n",
        "    contents = f_obj.read()\n",
        "\n",
        "except FileNotFoundError:\n",
        "  msg = \"Sorry, the file \" + filename + \" does not exist.\"\n",
        "  print(msg)"
      ],
      "execution_count": null,
      "outputs": [
        {
          "output_type": "stream",
          "text": [
            "Sorry, the file alice.txt does not exist.\n"
          ],
          "name": "stdout"
        }
      ]
    },
    {
      "cell_type": "code",
      "metadata": {
        "colab": {
          "base_uri": "https://localhost:8080/"
        },
        "id": "GT-jjS5K_lz3",
        "outputId": "fc7792a2-cf87-44f9-a42f-d67993ff671a"
      },
      "source": [
        "fname = input(\"Enter file name: \")\n",
        " \n",
        "with open(fname, 'r') as f:\n",
        "    for line in f:\n",
        "        words = line.split()\n",
        "        for i in words:\n",
        "            for letter in i:\n",
        "                if(letter.isdigit()):\n",
        "                    print(letter)\n"
      ],
      "execution_count": null,
      "outputs": [
        {
          "output_type": "stream",
          "text": [
            "Enter file name: /content/drive/MyDrive/Colab Notebooks/Python_course/Course _I/Files/hitler.txt\n",
            "2\n",
            "0\n",
            "1\n",
            "8\n",
            "8\n",
            "9\n",
            "3\n",
            "0\n",
            "1\n",
            "9\n",
            "4\n",
            "5\n",
            "1\n",
            "9\n",
            "3\n",
            "3\n",
            "1\n",
            "9\n",
            "4\n",
            "5\n",
            "1\n",
            "9\n",
            "3\n",
            "3\n",
            "1\n",
            "9\n",
            "3\n",
            "4\n",
            "1\n",
            "9\n",
            "3\n",
            "3\n",
            "1\n",
            "9\n",
            "4\n",
            "5\n",
            "1\n",
            "1\n",
            "9\n",
            "3\n",
            "9\n",
            "1\n",
            "9\n",
            "1\n",
            "3\n",
            "1\n",
            "9\n",
            "1\n",
            "9\n",
            "1\n",
            "9\n",
            "2\n",
            "1\n",
            "1\n",
            "9\n",
            "2\n",
            "3\n",
            "1\n",
            "9\n",
            "2\n",
            "4\n",
            "1\n",
            "9\n",
            "3\n",
            "2\n",
            "3\n",
            "0\n",
            "1\n",
            "9\n",
            "3\n",
            "3\n",
            "1\n",
            "9\n",
            "3\n",
            "3\n",
            "1\n",
            "1\n",
            "9\n",
            "3\n",
            "9\n",
            "1\n",
            "9\n",
            "4\n",
            "1\n",
            "1\n",
            "9\n",
            "4\n",
            "1\n",
            "1\n",
            "9\n",
            "4\n",
            "1\n",
            "1\n",
            "9\n",
            "4\n",
            "5\n",
            "2\n",
            "9\n",
            "1\n",
            "9\n",
            "4\n",
            "5\n",
            "4\n",
            "6\n",
            "1\n",
            "9\n",
            "3\n",
            "2\n",
            "8\n",
            "7\n"
          ],
          "name": "stdout"
        }
      ]
    },
    {
      "cell_type": "code",
      "metadata": {
        "colab": {
          "base_uri": "https://localhost:8080/"
        },
        "id": "29O_aB5gCXKs",
        "outputId": "779e2d1c-be02-43de-dbc4-576dd31cf8e6"
      },
      "source": [
        "from collections import Counter\n",
        "def word_count(fname):\n",
        "        with open(fname) as f:\n",
        "                return Counter(f.read().split())\n",
        "\n",
        "print(\"Number of words in the file :\",word_count(\"/content/drive/MyDrive/Colab Notebooks/Python_course/Course _I/Files/alice.txt\"))"
      ],
      "execution_count": null,
      "outputs": [
        {
          "output_type": "stream",
          "text": [
            "Number of words in the file : Counter({'the': 13, 'to': 9, 'of': 8, 'a': 8, 'her': 7, 'and': 7, 'she': 7, 'it': 7, 'was': 5, 'Alice': 4, 'very': 4, 'or': 4, 'in': 4, 'it,': 4, 'had': 3, 'but': 3, 'Rabbit': 3, 'with': 3, 'out': 3, 'at': 3, 'by': 2, 'sister': 2, 'nothing': 2, 'pictures': 2, 'thought': 2, 'mind': 2, 'for': 2, 'be': 2, 'when': 2, 'ran': 2, 'so': 2, 'dear!': 2, 'that': 2, 'time': 2, 'watch': 2, 'waistcoat-pocket,': 2, 'across': 2, 'beginning': 1, 'get': 1, 'tired': 1, 'sitting': 1, 'on': 1, 'bank,': 1, 'having': 1, 'do:': 1, 'once': 1, 'twice': 1, 'peeped': 1, 'into': 1, 'book': 1, 'reading,': 1, 'no': 1, 'conversations': 1, '`and': 1, 'what': 1, 'is': 1, 'use': 1, \"book,'\": 1, '`without': 1, \"conversation?'\": 1, 'So': 1, 'considering': 1, 'own': 1, '(as': 1, 'well': 1, 'as': 1, 'could,': 1, 'hot': 1, 'day': 1, 'made': 1, 'feel': 1, 'sleepy': 1, 'stupid),': 1, 'whether': 1, 'pleasure': 1, 'making': 1, 'daisy-chain': 1, 'would': 1, 'worth': 1, 'trouble': 1, 'getting': 1, 'up': 1, 'picking': 1, 'daisies,': 1, 'suddenly': 1, 'White': 1, 'pink': 1, 'eyes': 1, 'close': 1, 'her.': 1, 'There': 1, 'remarkable': 1, 'that;': 1, 'nor': 1, 'did': 1, 'think': 1, 'much': 1, 'way': 1, 'hear': 1, 'say': 1, 'itself,': 1, '`Oh': 1, 'Oh': 1, 'I': 1, 'shall': 1, \"late!'\": 1, '(when': 1, 'over': 1, 'afterwards,': 1, 'occurred': 1, 'ought': 1, 'have': 1, 'wondered': 1, 'this,': 1, 'all': 1, 'seemed': 1, 'quite': 1, 'natural);': 1, 'actually': 1, 'took': 1, 'its': 1, 'looked': 1, 'then': 1, 'hurried': 1, 'on,': 1, 'started': 1, 'feet,': 1, 'flashed': 1, 'never': 1, 'before': 1, 'seen': 1, 'rabbit': 1, 'either': 1, 'take': 1, 'burning': 1, 'curiosity,': 1, 'field': 1, 'after': 1, 'fortunately': 1, 'just': 1, 'see': 1, 'pop': 1, 'down': 1, 'large': 1, 'rabbit-hole': 1, 'under': 1, 'hedge.': 1})\n"
          ],
          "name": "stdout"
        }
      ]
    },
    {
      "cell_type": "code",
      "metadata": {
        "id": "FNq4f7sQqs7R"
      },
      "source": [
        "import os\n",
        "fo=open('/content/drive/MyDrive/Colab Notebooks/Python_course/Course _I/Files/alice.txt', \"a\")\n"
      ],
      "execution_count": 47,
      "outputs": []
    }
  ]
}