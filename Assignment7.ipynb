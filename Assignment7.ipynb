{
  "nbformat": 4,
  "nbformat_minor": 0,
  "metadata": {
    "colab": {
      "name": "Assignment7.ipynb",
      "provenance": [],
      "collapsed_sections": [],
      "authorship_tag": "ABX9TyMxTzzj6WTZhPyW4Lnk8EzW",
      "include_colab_link": true
    },
    "kernelspec": {
      "name": "python3",
      "display_name": "Python 3"
    },
    "language_info": {
      "name": "python"
    }
  },
  "cells": [
    {
      "cell_type": "markdown",
      "metadata": {
        "id": "view-in-github",
        "colab_type": "text"
      },
      "source": [
        "<a href=\"https://colab.research.google.com/github/prak32/Python_Assignment/blob/master/Assignment7.ipynb\" target=\"_parent\"><img src=\"https://colab.research.google.com/assets/colab-badge.svg\" alt=\"Open In Colab\"/></a>"
      ]
    },
    {
      "cell_type": "markdown",
      "metadata": {
        "id": "RtpYRUUH6SeN"
      },
      "source": [
        "#Q.no.1."
      ]
    },
    {
      "cell_type": "code",
      "metadata": {
        "id": "83BaOLAZ6Yap",
        "colab": {
          "base_uri": "https://localhost:8080/"
        },
        "outputId": "c80aaf5a-bc9c-497e-d866-d9da0b2459e1"
      },
      "source": [
        "A = [[1,2,3],  \n",
        "     [4,5,6],  \n",
        "     [7,8,9]]  \n",
        " \n",
        "B = [[111,22,33],  \n",
        "     [44,55,56],  \n",
        "     [47,86,19]]  \n",
        " \n",
        "result = [[0,0,0],  \n",
        "          [0,0,0],  \n",
        "          [0,0,0]]  \n",
        " \n",
        "# iterate through rows of X  \n",
        "for i in range(len(A)):  \n",
        "   for j in range(len(B[0])):  \n",
        "       for k in range(len(B)):  \n",
        "           result[i][j] += A[i][k] * B[k][j]  \n",
        "print(\"The matrix after multiplication is \")\n",
        "for r in result:  \n",
        "   print( r)  \n"
      ],
      "execution_count": null,
      "outputs": [
        {
          "output_type": "stream",
          "text": [
            "The matrix after multiplication is \n",
            "[340, 390, 202]\n",
            "[946, 879, 526]\n",
            "[1552, 1368, 850]\n"
          ],
          "name": "stdout"
        }
      ]
    },
    {
      "cell_type": "markdown",
      "metadata": {
        "id": "KODeFHdB9vQ9"
      },
      "source": [
        "#Q.no.2"
      ]
    },
    {
      "cell_type": "code",
      "metadata": {
        "colab": {
          "base_uri": "https://localhost:8080/"
        },
        "id": "gG4ZxR9S9xVM",
        "outputId": "309e1a33-7443-4a4e-b77b-3ac882a22271"
      },
      "source": [
        "C = [[111,22,33,44],  \n",
        "     [44,55,56,1],  \n",
        "     [47,86,19,2],\n",
        "     [1,2,22,3]]  \n",
        " \n",
        "D = [[11,22,3,4],  \n",
        "     [4,5,6,1],  \n",
        "     [7,6,19,2],\n",
        "     [1,2,22,3]]  \n",
        " \n",
        "result = [[0,0,0,0],  \n",
        "          [0,0,0,0],  \n",
        "          [0,0,0,0],\n",
        "          [0,0,0,0]]  \n",
        " \n",
        "# iterate through rows of X  \n",
        "for i in range(len(C)):  \n",
        "   for j in range(len(D[0])):  \n",
        "       for k in range(len(D)):  \n",
        "           result[i][j] += C[i][k] * D[k][j]  \n",
        "print(\"The matrix after multiplication is \")\n",
        "for r in result:  \n",
        "   print( r)  \n"
      ],
      "execution_count": null,
      "outputs": [
        {
          "output_type": "stream",
          "text": [
            "The matrix after multiplication is \n",
            "[1584, 2838, 2060, 664]\n",
            "[1097, 1581, 1548, 346]\n",
            "[996, 1582, 1062, 318]\n",
            "[176, 170, 499, 59]\n"
          ],
          "name": "stdout"
        }
      ]
    },
    {
      "cell_type": "markdown",
      "metadata": {
        "id": "oBtVmwWXCmWx"
      },
      "source": [
        "#Q.no.3."
      ]
    },
    {
      "cell_type": "code",
      "metadata": {
        "colab": {
          "base_uri": "https://localhost:8080/"
        },
        "id": "glNnDcpaAhx1",
        "outputId": "0f0ca582-2fa3-420e-ed1d-d0414cb504ff"
      },
      "source": [
        "n = int(input(\"Enter the number of rows:\"))    \n",
        "for i in range(0, n):  \n",
        "        for j in range(0, 2*i-1):  \n",
        "            print(\"F \", end=\"\")       \n",
        "        print()  \n"
      ],
      "execution_count": 1,
      "outputs": [
        {
          "output_type": "stream",
          "text": [
            "Enter the number of rows:6\n",
            "\n",
            "F \n",
            "F F F \n",
            "F F F F F \n",
            "F F F F F F F \n",
            "F F F F F F F F F \n"
          ],
          "name": "stdout"
        }
      ]
    },
    {
      "cell_type": "markdown",
      "metadata": {
        "id": "E_39RmFtC_Kb"
      },
      "source": [
        "#Q.no.4."
      ]
    },
    {
      "cell_type": "code",
      "metadata": {
        "colab": {
          "base_uri": "https://localhost:8080/"
        },
        "id": "hj09JPFcDBbP",
        "outputId": "11909977-5c25-4fd4-9ff9-790fb06f79ba"
      },
      "source": [
        "\n",
        "fibo=0\n",
        "sum=1\n",
        "n = int(input(\"Enter the number of rows:\"))    \n",
        "for x in range(0,n):\n",
        " next=fibo+sum\n",
        " fibo=sum\n",
        " sum=next\n",
        "\n",
        " for i in range(1):\n",
        "  for j in range(fibo, sum):\n",
        "    print(\"F\",end = '')\n",
        "  print()"
      ],
      "execution_count": null,
      "outputs": [
        {
          "output_type": "stream",
          "text": [
            "Enter the number of rows:9\n",
            "\n",
            "F\n",
            "F\n",
            "FF\n",
            "FFF\n",
            "FFFFF\n",
            "FFFFFFFF\n",
            "FFFFFFFFFFFFF\n",
            "FFFFFFFFFFFFFFFFFFFFF\n"
          ],
          "name": "stdout"
        }
      ]
    }
  ]
}