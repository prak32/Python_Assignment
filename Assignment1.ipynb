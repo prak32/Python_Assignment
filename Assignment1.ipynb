{
  "nbformat": 4,
  "nbformat_minor": 0,
  "metadata": {
    "colab": {
      "name": "Assignment1.ipynb",
      "provenance": [],
      "collapsed_sections": [],
      "authorship_tag": "ABX9TyO/EptyitvUqzOJrpfRdRsC",
      "include_colab_link": true
    },
    "kernelspec": {
      "name": "python3",
      "display_name": "Python 3"
    },
    "language_info": {
      "name": "python"
    }
  },
  "cells": [
    {
      "cell_type": "markdown",
      "metadata": {
        "id": "view-in-github",
        "colab_type": "text"
      },
      "source": [
        "<a href=\"https://colab.research.google.com/github/prak32/Python_Assignment/blob/master/Assignment1.ipynb\" target=\"_parent\"><img src=\"https://colab.research.google.com/assets/colab-badge.svg\" alt=\"Open In Colab\"/></a>"
      ]
    },
    {
      "cell_type": "markdown",
      "metadata": {
        "id": "bHv7BSVoomt6"
      },
      "source": [
        "**Q.no.1**"
      ]
    },
    {
      "cell_type": "code",
      "metadata": {
        "id": "dHPqH0J3ojbD",
        "colab": {
          "base_uri": "https://localhost:8080/"
        },
        "outputId": "bda918d8-b9f7-4620-9c16-662a3d58a73e"
      },
      "source": [
        "#Write a program to perform the permutation of (5,3) in python.\n",
        "import math\n",
        "n=5\n",
        "r=3\n",
        "permu=math.factorial(n)/math.factorial(n-r)\n",
        "print(\"The permutaion of the given number is\", permu)\n"
      ],
      "execution_count": 15,
      "outputs": [
        {
          "output_type": "stream",
          "text": [
            "The permutaion of the given number is 60.0\n"
          ],
          "name": "stdout"
        }
      ]
    },
    {
      "cell_type": "markdown",
      "metadata": {
        "id": "Di6-nCNFpRFo"
      },
      "source": [
        "**Q.no.2.**"
      ]
    },
    {
      "cell_type": "code",
      "metadata": {
        "colab": {
          "base_uri": "https://localhost:8080/"
        },
        "id": "PeSCKSG-pnid",
        "outputId": "d27df84d-f8d9-48f3-9847-85875de752c4"
      },
      "source": [
        "#Write a program to perform the permutation of (15,3) in python.\n",
        "import math\n",
        "n=15\n",
        "r=3\n",
        "comb=math.factorial(n)/(math.factorial(r)/math.factorial(n-r))\n",
        "print(\"The combination of the given number is\" , comb)"
      ],
      "execution_count": null,
      "outputs": [
        {
          "output_type": "stream",
          "text": [
            "The combination of the given number is 1.043963524251648e+20\n"
          ],
          "name": "stdout"
        }
      ]
    },
    {
      "cell_type": "markdown",
      "metadata": {
        "id": "oyQA9mwGqsel"
      },
      "source": [
        "**Q.no.3**"
      ]
    },
    {
      "cell_type": "code",
      "metadata": {
        "colab": {
          "base_uri": "https://localhost:8080/"
        },
        "id": "GcowOARGrI3R",
        "outputId": "eaee0cce-13a6-47ea-84f0-f9f39a170c81"
      },
      "source": [
        "#Write a Python code that takes the degree as input from the user and convert it into radian.\n",
        "import math\n",
        "number = int (input(\"Enter a number \"))\n",
        "print(\"You number is: \",number)\n",
        "rad=math.radians(number)\n",
        "print(\"The radian is %.4f\" %(rad)) "
      ],
      "execution_count": 46,
      "outputs": [
        {
          "output_type": "stream",
          "text": [
            "Enter a number 22\n",
            "You number is:  22\n",
            "The radian is 0.3840\n"
          ],
          "name": "stdout"
        }
      ]
    },
    {
      "cell_type": "markdown",
      "metadata": {
        "id": "5K1k5H2ot7hF"
      },
      "source": [
        "**Q.no.4.**"
      ]
    },
    {
      "cell_type": "code",
      "metadata": {
        "colab": {
          "base_uri": "https://localhost:8080/"
        },
        "id": "0OHt5YiQufnx",
        "outputId": "f9081511-ca96-4cea-a81c-dc289663f231"
      },
      "source": [
        "#Write a Python code that inputs input from the user and calculate its square root.\n",
        "import math\n",
        "number = int (input(\"Enter a number \"))\n",
        "print(\"You number is: \",number)\n",
        "squa=math.sqrt(number)\n",
        "print(\"The sqaure root of given number is: %.4f\" %(squa) ) "
      ],
      "execution_count": 47,
      "outputs": [
        {
          "output_type": "stream",
          "text": [
            "Enter a number 4\n",
            "You number is:  4\n",
            "The sqaure root of given number is: 2.0000\n"
          ],
          "name": "stdout"
        }
      ]
    },
    {
      "cell_type": "markdown",
      "metadata": {
        "id": "qhc8TiRuwy01"
      },
      "source": [
        "**Q.no.5**"
      ]
    },
    {
      "cell_type": "code",
      "metadata": {
        "colab": {
          "base_uri": "https://localhost:8080/"
        },
        "id": "mwxE4IYyw4zs",
        "outputId": "681b4419-ad68-44ce-84e2-707bba95ab1f"
      },
      "source": [
        "#Write a Python code to calculate LCM of (25,55)\n",
        "a = 25\n",
        "b = 55\n",
        "\n",
        "if(a > b):\n",
        "    maximum = a\n",
        "else:\n",
        "    maximum = b\n",
        "\n",
        "while(True):\n",
        "    if(maximum % a == 0 and maximum % b == 0):\n",
        "        print(\"The LCM of {0} and {1} = {2}\".format(a, b, maximum))\n",
        "        break;\n",
        "    maximum = maximum + 1\n"
      ],
      "execution_count": 39,
      "outputs": [
        {
          "output_type": "stream",
          "text": [
            "The LCM of 25 and 55 = 275\n"
          ],
          "name": "stdout"
        }
      ]
    },
    {
      "cell_type": "markdown",
      "metadata": {
        "id": "_CCVlwiXef94"
      },
      "source": [
        "**Q.no.6.**"
      ]
    },
    {
      "cell_type": "code",
      "metadata": {
        "id": "8xFIgCBzelJB",
        "colab": {
          "base_uri": "https://localhost:8080/"
        },
        "outputId": "ec368a2e-b1ce-4868-9bed-c6c54c3fbd10"
      },
      "source": [
        "#Ask enter to enter two numbers (say, a and b). Generate two random numbers between those two numbers and find a combination of these two newly generated random numbers.  \n",
        "import math\n",
        "a = int(input(\"Enter a first number: \"))\n",
        "print(\"First number:\", a)\n",
        "b = int(input(\"Enter a second number: \"))\n",
        "print(\"Second number: \", b)\n",
        "import random\n",
        "c= random.randint(a, b )\n",
        "d= random.randint(a, b )\n",
        "print(\"First random number:\", c)\n",
        "print(\"Second random number:\", d)\n",
        "if(c > d or c == d):\n",
        "  comb= math.factorial(c)/(math.factorial(d)*math.factorial(c-d))\n",
        "  print(\"The required cobination number is\", comb)\n",
        "else:\n",
        "  exit(0)\n"
      ],
      "execution_count": 48,
      "outputs": [
        {
          "output_type": "stream",
          "text": [
            "Enter a first number: 3\n",
            "First number: 3\n",
            "Enter a second number: 14\n",
            "Second number:  14\n",
            "First random number: 8\n",
            "Second random number: 3\n",
            "The required cobination number is 56.0\n"
          ],
          "name": "stdout"
        }
      ]
    },
    {
      "cell_type": "markdown",
      "metadata": {
        "id": "yhwpb8FbjRf4"
      },
      "source": [
        "**Q.no.7**"
      ]
    },
    {
      "cell_type": "code",
      "metadata": {
        "id": "yO2O4hRbjgAd"
      },
      "source": [
        "#Divide 1000 by 3 and print the answer with only 5 numbers after decimal."
      ],
      "execution_count": null,
      "outputs": []
    },
    {
      "cell_type": "code",
      "metadata": {
        "colab": {
          "base_uri": "https://localhost:8080/"
        },
        "id": "iIAxKrLckjNb",
        "outputId": "d8d5e115-2769-4daf-ea48-494ba771dbaa"
      },
      "source": [
        "import math\n",
        "a= 1000\n",
        "b= 3\n",
        "c= a/b\n",
        "print(\"The required number is\", format(c, \".5f\"))"
      ],
      "execution_count": null,
      "outputs": [
        {
          "output_type": "stream",
          "text": [
            "The required number is 333.33333\n"
          ],
          "name": "stdout"
        }
      ]
    },
    {
      "cell_type": "markdown",
      "metadata": {
        "id": "HlqnN8XtuDy3"
      },
      "source": [
        "**Q.no.8**"
      ]
    },
    {
      "cell_type": "code",
      "metadata": {
        "colab": {
          "base_uri": "https://localhost:8080/"
        },
        "id": "Xzb527IeuG6l",
        "outputId": "d1818dbf-76fc-4e37-d7da-ea580443c892"
      },
      "source": [
        "#Write a program to convert 108 to binary.\n",
        "import math\n",
        "dec_num = 108\n",
        "print(\"The required binary number is :\", bin(dec_num)[2:])\n"
      ],
      "execution_count": 49,
      "outputs": [
        {
          "output_type": "stream",
          "text": [
            "The required binary number is : 1101100\n"
          ],
          "name": "stdout"
        }
      ]
    },
    {
      "cell_type": "markdown",
      "metadata": {
        "id": "ECjV5YWp9CF1"
      },
      "source": [
        "**Q.no.9.**"
      ]
    },
    {
      "cell_type": "code",
      "metadata": {
        "colab": {
          "base_uri": "https://localhost:8080/"
        },
        "id": "T_1QxLHR9JFd",
        "outputId": "e3d2af33-4adb-4fa8-8a59-661e0b77856b"
      },
      "source": [
        "#Write a program to convert 1008 to hexadecimal.\n",
        "import math\n",
        "dec_num= 1008\n",
        "print(\" The required hexadecimal of the given number is %x\" %dec_num)"
      ],
      "execution_count": 17,
      "outputs": [
        {
          "output_type": "stream",
          "text": [
            " The required hexadecimal of the given number is 3f0\n"
          ],
          "name": "stdout"
        }
      ]
    },
    {
      "cell_type": "markdown",
      "metadata": {
        "id": "ZmRpKM-C-iZu"
      },
      "source": [
        "**Q.no.10.**"
      ]
    },
    {
      "cell_type": "code",
      "metadata": {
        "colab": {
          "base_uri": "https://localhost:8080/"
        },
        "id": "kkeYJJxxCXep",
        "outputId": "49a621a1-e40e-4c81-cce3-e05ddc5ef45d"
      },
      "source": [
        "#Write a summary of everything you learnt in this class.\n",
        "print('In this class, We have learnt the basic elements used in the Python such as Comments, Variables, Strings, Numbers, Casting, Library files, Formatting.')"
      ],
      "execution_count": 1,
      "outputs": [
        {
          "output_type": "stream",
          "text": [
            "In this class, We have learnt the basic elements used in the Python such as Comments, Variables, Strings, Numbers, Casting, Library files, Formatting.\n"
          ],
          "name": "stdout"
        }
      ]
    }
  ]
}