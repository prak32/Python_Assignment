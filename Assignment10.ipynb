{
  "nbformat": 4,
  "nbformat_minor": 0,
  "metadata": {
    "colab": {
      "name": "Assignment10.ipynb",
      "provenance": [],
      "collapsed_sections": [],
      "authorship_tag": "ABX9TyNJT04SeXxJv6b+AlWAi7ps",
      "include_colab_link": true
    },
    "kernelspec": {
      "name": "python3",
      "display_name": "Python 3"
    },
    "language_info": {
      "name": "python"
    }
  },
  "cells": [
    {
      "cell_type": "markdown",
      "metadata": {
        "id": "view-in-github",
        "colab_type": "text"
      },
      "source": [
        "<a href=\"https://colab.research.google.com/github/prak32/Python_Assignment/blob/master/Assignment10.ipynb\" target=\"_parent\"><img src=\"https://colab.research.google.com/assets/colab-badge.svg\" alt=\"Open In Colab\"/></a>"
      ]
    },
    {
      "cell_type": "markdown",
      "metadata": {
        "id": "uz25qCUzNxHj"
      },
      "source": [
        "#Q.no.1."
      ]
    },
    {
      "cell_type": "code",
      "metadata": {
        "colab": {
          "base_uri": "https://localhost:8080/"
        },
        "id": "zuNn1R3gN3GX",
        "outputId": "16e28a9e-764e-4762-d2a2-a4e4f31348d9"
      },
      "source": [
        "#A.\n",
        "import numpy as np\n",
        "A = np.array(([1,2,3],[55,56,7]))\n",
        "print(A)\n",
        "try:\n",
        "  A_inv = np.linalg.inv(A)\n",
        "except:\n",
        "  print(\"For inverse the martix should be square.\")\n",
        "\n"
      ],
      "execution_count": null,
      "outputs": [
        {
          "output_type": "stream",
          "text": [
            "[[ 1  2  3]\n",
            " [55 56  7]]\n",
            "For inverse the martix should be square.\n"
          ],
          "name": "stdout"
        }
      ]
    },
    {
      "cell_type": "code",
      "metadata": {
        "colab": {
          "base_uri": "https://localhost:8080/"
        },
        "id": "t6pEM1rlxpsM",
        "outputId": "540840bd-3d56-48af-9e6a-7ddae5baafeb"
      },
      "source": [
        "#B.\n",
        "import numpy as np\n",
        "B = np.array(([1,2,3],\n",
        "              [55,56,7],\n",
        "              [6,7,12]))\n",
        "print(\"The given Matrix is :\\n\", B)\n",
        "B_inv = np.linalg.inv(A)\n",
        "print(\"The inverse of the given matrix is:\\n\",B_inv)\n"
      ],
      "execution_count": null,
      "outputs": [
        {
          "output_type": "stream",
          "text": [
            "The given Matrix is :\n",
            " [[ 1  2  3]\n",
            " [55 56  7]\n",
            " [ 6  7 12]]\n",
            "The inverse of the given matrix is:\n",
            " [[-0.85576923 -0.78205128  0.25        0.38782051]\n",
            " [ 0.75        1.         -0.5        -0.25      ]\n",
            " [-0.08653846 -0.06410256  0.25       -0.09935897]\n",
            " [ 0.07692308 -0.12820513 -0.          0.05128205]]\n"
          ],
          "name": "stdout"
        }
      ]
    },
    {
      "cell_type": "code",
      "metadata": {
        "colab": {
          "base_uri": "https://localhost:8080/"
        },
        "id": "eniOFJFNycTk",
        "outputId": "48b3e101-0712-486a-ecc0-0810a0bfc59b"
      },
      "source": [
        "#C.\n",
        "import numpy as np\n",
        "C = np.array(([1,2,3,8],\n",
        "              [5,6,7,5],\n",
        "              [6,7,12,12],\n",
        "              [11,12,13,20]))\n",
        "print(\"The given Matrix is :\\n\", C)\n",
        "C_inv = np.linalg.inv(A)\n",
        "print(\"The inverse of the given matrix is:\\n\", C_inv)\n"
      ],
      "execution_count": null,
      "outputs": [
        {
          "output_type": "stream",
          "text": [
            "The given Matrix is :\n",
            " [[ 1  2  3  8]\n",
            " [ 5  6  7  5]\n",
            " [ 6  7 12 12]\n",
            " [11 12 13 20]]\n",
            "The inverse of the given matrix is:\n",
            " [[-0.85576923 -0.78205128  0.25        0.38782051]\n",
            " [ 0.75        1.         -0.5        -0.25      ]\n",
            " [-0.08653846 -0.06410256  0.25       -0.09935897]\n",
            " [ 0.07692308 -0.12820513 -0.          0.05128205]]\n"
          ],
          "name": "stdout"
        }
      ]
    },
    {
      "cell_type": "markdown",
      "metadata": {
        "id": "10A7BXu3XuyK"
      },
      "source": [
        "#Q.no.2."
      ]
    },
    {
      "cell_type": "code",
      "metadata": {
        "colab": {
          "base_uri": "https://localhost:8080/"
        },
        "id": "r6Lsxo2YXvZt",
        "outputId": "bb4c6c27-a9f5-4897-e282-a65a7195e812"
      },
      "source": [
        "import numpy as np\n",
        "arr = np.array([[5, 4, 3], \n",
        "                [6, -8, 7], \n",
        "                [1, -1, 10]])\n",
        "\n",
        "inv_array = np.linalg.inv(arr)\n",
        "print(\"Inverse array is:\\n\", inv_array)\n",
        "print(\"The values of x1, x2, x3 are: \")\n",
        "A= inverse_array\n",
        "B = [[5],\n",
        "    [15],\n",
        "    [25]]\n",
        "val = np.dot(A,B)\n",
        "print(val)\n"
      ],
      "execution_count": null,
      "outputs": [
        {
          "output_type": "stream",
          "text": [
            "Inverse array is:\n",
            " [[ 0.12784588  0.07530648 -0.0910683 ]\n",
            " [ 0.09281961 -0.08231173  0.02977233]\n",
            " [-0.00350263 -0.01576182  0.11208406]]\n",
            "The values of x1, x2, x3 are: \n",
            "[[-0.50788091]\n",
            " [-0.0262697 ]\n",
            " [ 2.54816112]]\n"
          ],
          "name": "stdout"
        }
      ]
    },
    {
      "cell_type": "markdown",
      "metadata": {
        "id": "ngQEEXO9dSjH"
      },
      "source": [
        "#Q.no.3."
      ]
    },
    {
      "cell_type": "code",
      "metadata": {
        "colab": {
          "base_uri": "https://localhost:8080/"
        },
        "id": "6a9w2V4MdTxL",
        "outputId": "729ce94c-b0f8-4528-930a-a5291ad97469"
      },
      "source": [
        "import numpy as np\n",
        "array=np.zeros(10)\n",
        "print(\"An array of 10 zeros:\")\n",
        "print(array)\n",
        "array=np.ones(10)\n",
        "print(\"An array of 10 ones:\")\n",
        "print(array)\n",
        "array=np.ones(10)*5\n",
        "print(\"An array of 10 fives:\")\n",
        "print(array)\n",
        "\n"
      ],
      "execution_count": null,
      "outputs": [
        {
          "output_type": "stream",
          "text": [
            "An array of 10 zeros:\n",
            "[0. 0. 0. 0. 0. 0. 0. 0. 0. 0.]\n",
            "An array of 10 ones:\n",
            "[1. 1. 1. 1. 1. 1. 1. 1. 1. 1.]\n",
            "An array of 10 fives:\n",
            "[5. 5. 5. 5. 5. 5. 5. 5. 5. 5.]\n"
          ],
          "name": "stdout"
        }
      ]
    },
    {
      "cell_type": "markdown",
      "metadata": {
        "id": "UZNaWbxcdZHU"
      },
      "source": [
        "#Q.no.4."
      ]
    },
    {
      "cell_type": "code",
      "metadata": {
        "id": "M0pXTt6Gd8Q4",
        "colab": {
          "base_uri": "https://localhost:8080/"
        },
        "outputId": "a89d26a3-9546-4fd4-eb27-372c55b3befa"
      },
      "source": [
        "import numpy as np\n",
        "m = np.array([[1, 2, 3],\n",
        "              [55, 66, 7],\n",
        "              [6, 7, 12]])\n",
        "print(\"The Original square array:\\n\", m)\n",
        "w, v = np.linalg.eig(m)\n",
        "print(\"\\nThe Eigen values of the given square array:\\n\", w)\n",
        "print(\"The eigenvectors of the given square array:\\n\", v)\n"
      ],
      "execution_count": null,
      "outputs": [
        {
          "output_type": "stream",
          "text": [
            "The Original square array:\n",
            " [[ 1  2  3]\n",
            " [55 66  7]\n",
            " [ 6  7 12]]\n",
            "\n",
            "The Eigen values of the given square array:\n",
            " [68.81905127 -0.70229368 10.88324241]\n",
            "The eigenvectors of the given square array:\n",
            " [[ 0.03480353  0.77221412  0.21267997]\n",
            " [ 0.99144253 -0.6351919  -0.32907749]\n",
            " [ 0.12581905 -0.01471714  0.92004089]]\n"
          ],
          "name": "stdout"
        }
      ]
    },
    {
      "cell_type": "markdown",
      "metadata": {
        "id": "imblexpCfEAW"
      },
      "source": [
        "#Q.no.5."
      ]
    },
    {
      "cell_type": "code",
      "metadata": {
        "colab": {
          "base_uri": "https://localhost:8080/"
        },
        "id": "89lMzHmDfHx3",
        "outputId": "47b619ad-5251-489f-c9fd-040339e920db"
      },
      "source": [
        "import numpy as np\n",
        "rand = np.random.normal(size=5)\n",
        "print(\"The five random numbers from the normal distribution is \", rand)"
      ],
      "execution_count": null,
      "outputs": [
        {
          "output_type": "stream",
          "text": [
            "The five random numbers from the normal distribution is  [ 1.44627438  0.25044499 -0.97438073 -0.76086584  0.2563406 ]\n"
          ],
          "name": "stdout"
        }
      ]
    },
    {
      "cell_type": "markdown",
      "metadata": {
        "id": "sQprKiArfdnp"
      },
      "source": [
        "#Q.no.6."
      ]
    },
    {
      "cell_type": "code",
      "metadata": {
        "colab": {
          "base_uri": "https://localhost:8080/"
        },
        "id": "enb3Z7yvfgce",
        "outputId": "aa3eb3d6-d0f7-4455-b691-ce3aeff5feb4"
      },
      "source": [
        "import numpy as np\n",
        "rand = np.random.randint(low=10, high=30, size=6)\n",
        "print(\"The six random numbers between 10 and 30 are:\", rand)"
      ],
      "execution_count": null,
      "outputs": [
        {
          "output_type": "stream",
          "text": [
            "The six random numbers between 10 and 30 are: [15 10 24 17 19 16]\n"
          ],
          "name": "stdout"
        }
      ]
    },
    {
      "cell_type": "markdown",
      "metadata": {
        "id": "zReFx8UBgMMF"
      },
      "source": [
        "#Q.no.7."
      ]
    },
    {
      "cell_type": "code",
      "metadata": {
        "colab": {
          "base_uri": "https://localhost:8080/"
        },
        "id": "7_a0cB0egPc5",
        "outputId": "8613bbaa-268f-48fe-f80c-481ee07dbe51"
      },
      "source": [
        "import numpy as np\n",
        "rand = np.random.random((3,3,3))\n",
        "print(\"The 3*3*3 array or matrix with random values is: \\n\", rand)"
      ],
      "execution_count": null,
      "outputs": [
        {
          "output_type": "stream",
          "text": [
            "The 3*3*3 array or matrix with random values is \n",
            " [[[0.90118535 0.21799444 0.08909248]\n",
            "  [0.82489178 0.22403095 0.15048744]\n",
            "  [0.55611673 0.35648838 0.64598   ]]\n",
            "\n",
            " [[0.80669367 0.13485448 0.37986998]\n",
            "  [0.7787065  0.77387699 0.79345898]\n",
            "  [0.9689617  0.30798674 0.59317268]]\n",
            "\n",
            " [[0.76439442 0.41234494 0.88934263]\n",
            "  [0.46885591 0.76978069 0.57108519]\n",
            "  [0.72049899 0.49352508 0.08471412]]]\n"
          ],
          "name": "stdout"
        }
      ]
    },
    {
      "cell_type": "markdown",
      "metadata": {
        "id": "m6AhEi5ChHOn"
      },
      "source": [
        "#Q.no.8."
      ]
    },
    {
      "cell_type": "code",
      "metadata": {
        "colab": {
          "base_uri": "https://localhost:8080/"
        },
        "id": "PU-J_HuthYVb",
        "outputId": "3c8cf0c1-5cc5-480e-bbd7-75419b4c5c38"
      },
      "source": [
        "import numpy as np\n",
        "a = np.random.random((5,5))\n",
        "print(\"The original matrix is :\\n\", a)\n",
        "amin, amax = a.min(), a.max()\n",
        "print(\"The Minimun values and the Maximum values are:\", amin,\"and\", amax)"
      ],
      "execution_count": null,
      "outputs": [
        {
          "output_type": "stream",
          "text": [
            "The original matrix is :\n",
            " [[0.60419191 0.49405514 0.33574921 0.32599495 0.9402708 ]\n",
            " [0.79712124 0.18035434 0.03348734 0.16940295 0.41419378]\n",
            " [0.25807331 0.33131459 0.60490251 0.69851969 0.79825662]\n",
            " [0.56061784 0.66244612 0.70411708 0.16099339 0.6515691 ]\n",
            " [0.03890889 0.16148522 0.82932869 0.96976121 0.23111645]]\n",
            "The Minimun values and the Maximum values are: 0.03348733750841548 and 0.9697612077386968\n"
          ],
          "name": "stdout"
        }
      ]
    },
    {
      "cell_type": "markdown",
      "metadata": {
        "id": "2Mn4tTYOiazl"
      },
      "source": [
        "#Q.no.9."
      ]
    },
    {
      "cell_type": "code",
      "metadata": {
        "colab": {
          "base_uri": "https://localhost:8080/"
        },
        "id": "7s6swz7DicWn",
        "outputId": "ac0008b5-10e2-4c95-bf28-d6e3287e0efd"
      },
      "source": [
        "import numpy as np\n",
        "a = np.random.random((3,3))\n",
        "print(\"The original matrix is:\\n\", a)\n",
        "amax = a.max()\n",
        "amin = a.min()\n",
        "a = (a-amin)/(amax-amin)\n",
        "print(\"After normalization the 3*3 random matrix is:\\n\", a)"
      ],
      "execution_count": null,
      "outputs": [
        {
          "output_type": "stream",
          "text": [
            "The original matrix is:\n",
            " [[0.4657901  0.24432174 0.53005109]\n",
            " [0.43600769 0.37378074 0.23671521]\n",
            " [0.57817496 0.91807851 0.50517438]]\n",
            "After normalization the 3*3 random matrix is:\n",
            " [[0.3362008  0.0111637  0.43051318]\n",
            " [0.29249078 0.20116366 0.        ]\n",
            " [0.50114197 1.         0.39400298]]\n"
          ],
          "name": "stdout"
        }
      ]
    },
    {
      "cell_type": "markdown",
      "metadata": {
        "id": "qi4YPKg7jcm5"
      },
      "source": [
        "#Q.no.10."
      ]
    },
    {
      "cell_type": "code",
      "metadata": {
        "colab": {
          "base_uri": "https://localhost:8080/"
        },
        "id": "6ovU47gQjeo_",
        "outputId": "81e0e4c1-d165-44be-c8a2-467eaa516447"
      },
      "source": [
        "import numpy as np\n",
        "a = np.random.random(10)\n",
        "print(\"The original matrix is:\\n\", a)\n",
        "a.sort()\n",
        "print(\"After sorting the original matrix become:\\n\",a)"
      ],
      "execution_count": null,
      "outputs": [
        {
          "output_type": "stream",
          "text": [
            "The original matrix is:\n",
            " [0.45594029 0.72019254 0.48596867 0.58829418 0.14499318 0.12368872\n",
            " 0.52390884 0.14089879 0.22597677 0.65884776]\n",
            "After sorting the original matrix become:\n",
            " [0.12368872 0.14089879 0.14499318 0.22597677 0.45594029 0.48596867\n",
            " 0.52390884 0.58829418 0.65884776 0.72019254]\n"
          ],
          "name": "stdout"
        }
      ]
    },
    {
      "cell_type": "markdown",
      "metadata": {
        "id": "9cRXdjvpkGHE"
      },
      "source": [
        "#Q.no.11."
      ]
    },
    {
      "cell_type": "code",
      "metadata": {
        "colab": {
          "base_uri": "https://localhost:8080/"
        },
        "id": "_xo-4nW4kHpO",
        "outputId": "71dd11d8-8b98-4442-ed32-1e2466349ac4"
      },
      "source": [
        "import numpy as np\n",
        "a = np.random.randint(0,4,7)\n",
        "print(\"The First array:\\n\", a)\n",
        "b = np.random.randint(0,4,7)\n",
        "print(\"The second array:\\n\", b)\n",
        "arr_equal = np.allclose(a, b)\n",
        "print(\"Testing the above two random arrayes are equal or not:\", arr_equal)"
      ],
      "execution_count": null,
      "outputs": [
        {
          "output_type": "stream",
          "text": [
            "The First array:\n",
            " [2 1 2 0 3 2 1]\n",
            "The second array:\n",
            " [3 2 1 3 2 1 0]\n",
            "Testing the above two random arrayes are equal or not: False\n"
          ],
          "name": "stdout"
        }
      ]
    },
    {
      "cell_type": "markdown",
      "metadata": {
        "id": "pg2By4HqlY63"
      },
      "source": [
        "#Q.no.12."
      ]
    },
    {
      "cell_type": "code",
      "metadata": {
        "colab": {
          "base_uri": "https://localhost:8080/"
        },
        "id": "HtP144d8lbCr",
        "outputId": "7e749a1f-9945-43b9-dc14-129afc1f4804"
      },
      "source": [
        "import numpy as np\n",
        "a = np.random.random(15)\n",
        "print(\"The original matrix is :\\n\", a)\n",
        "a[a.argmax()] = -1\n",
        "print(\"After replacing the maximum value by -1 the resultant matrix is :\\n\", a)"
      ],
      "execution_count": null,
      "outputs": [
        {
          "output_type": "stream",
          "text": [
            "The original matrix is :\n",
            " [0.35369601 0.91052843 0.1948748  0.70678144 0.1679593  0.79283306\n",
            " 0.38468201 0.24797397 0.83710653 0.68509298 0.31114283 0.17098163\n",
            " 0.38670761 0.99736779 0.07747831]\n",
            "After replacing the maximum value by -1 the resultant matrix is :\n",
            " [ 0.35369601  0.91052843  0.1948748   0.70678144  0.1679593   0.79283306\n",
            "  0.38468201  0.24797397  0.83710653  0.68509298  0.31114283  0.17098163\n",
            "  0.38670761 -1.          0.07747831]\n"
          ],
          "name": "stdout"
        }
      ]
    },
    {
      "cell_type": "markdown",
      "metadata": {
        "id": "x6eOYwR3l9Ld"
      },
      "source": [
        "#Q.no.13."
      ]
    },
    {
      "cell_type": "code",
      "metadata": {
        "colab": {
          "base_uri": "https://localhost:8080/"
        },
        "id": "FZDoRfSxl_wU",
        "outputId": "3a37dda9-d14a-4500-fd7d-f21a9593aaa9"
      },
      "source": [
        "import numpy as np\n",
        "a = np.array([[1,2],[11,12]])\n",
        "print(\"The original matrix is:\\n\", a)\n",
        "print(\"sorting the array along the first axis:\")\n",
        "print(np.sort(a, axis=0))\n",
        "print(\"sorting the array along the last axis:\")\n",
        "print(np.sort(a))\n",
        "print(\"Sorting the flattened array:\")\n",
        "print(np.sort(a, axis=None))"
      ],
      "execution_count": null,
      "outputs": [
        {
          "output_type": "stream",
          "text": [
            "The original matrix is:\n",
            " [[ 1  2]\n",
            " [11 12]]\n",
            "sorting the array along the first axis:\n",
            "[[ 1  2]\n",
            " [11 12]]\n",
            "sorting the array along the last axis:\n",
            "[[ 1  2]\n",
            " [11 12]]\n",
            "Sorting the flattened array:\n",
            "[ 1  2 11 12]\n"
          ],
          "name": "stdout"
        }
      ]
    },
    {
      "cell_type": "markdown",
      "metadata": {
        "id": "-mpgipKlnYeR"
      },
      "source": [
        "#Q.no.14."
      ]
    },
    {
      "cell_type": "code",
      "metadata": {
        "colab": {
          "base_uri": "https://localhost:8080/"
        },
        "id": "0_kCaBpxnb17",
        "outputId": "b37972f4-a55d-45d9-efdf-ad512a5fd043"
      },
      "source": [
        "import numpy as np\n",
        "student_id = np.array([123, 126 , 140, 152])\n",
        "student_height = np.array([145, 155, 165, 153])\n",
        "#Sort by studen_id then by student_height\n",
        "indices = np.lexsort((student_id, student_height))\n",
        "print(\"Sorted indices:\")\n",
        "print(indices)\n",
        "print(\"Sorted data:\\nid   height\")\n",
        "for n in indices:\n",
        "  print(student_id[n],\" \", student_height[n])"
      ],
      "execution_count": null,
      "outputs": [
        {
          "output_type": "stream",
          "text": [
            "Sorted indices:\n",
            "[0 3 1 2]\n",
            "Sorted data:\n",
            "id   height\n",
            "123   145\n",
            "152   153\n",
            "126   155\n",
            "140   165\n"
          ],
          "name": "stdout"
        }
      ]
    },
    {
      "cell_type": "markdown",
      "metadata": {
        "id": "fZ3u7LIxpBWa"
      },
      "source": [
        "#Q.no.15."
      ]
    },
    {
      "cell_type": "code",
      "metadata": {
        "colab": {
          "base_uri": "https://localhost:8080/"
        },
        "id": "XfiGP8LOpDIs",
        "outputId": "2cd03db4-847f-425b-aad0-d94ed55c813b"
      },
      "source": [
        "import numpy as np\n",
        "X = np.array([1023, 5202, 6230, 1671, 1682, 5241, 4532])\n",
        "print(\"The Original array:\")\n",
        "print(X)\n",
        "indx = np.argsort(X)\n",
        "print(\"Indices of the sorted elements of a given array:\")\n",
        "print(indx)\n"
      ],
      "execution_count": null,
      "outputs": [
        {
          "output_type": "stream",
          "text": [
            "The Original array:\n",
            "[1023 5202 6230 1671 1682 5241 4532]\n",
            "Indices of the sorted elements of a given array:\n",
            "[0 3 4 6 1 5 2]\n"
          ],
          "name": "stdout"
        }
      ]
    },
    {
      "cell_type": "markdown",
      "metadata": {
        "id": "eTRbaWcqpuP1"
      },
      "source": [
        "#Q.no.16."
      ]
    },
    {
      "cell_type": "code",
      "metadata": {
        "colab": {
          "base_uri": "https://localhost:8080/"
        },
        "id": "bd8Ra9UzpwPC",
        "outputId": "69792057-1ace-4c02-fd32-1c04c0ee5100"
      },
      "source": [
        "import numpy as np\n",
        "complex_num = [1 + 2j, 3 - 1j, 3 - 2j, 4 - 3j, 3 + 5j]\n",
        "print(\"Given Original array:\")\n",
        "print(complex_num)\n",
        "print(\"\\nSorted a given complex array using the real part first and then the imaginary part.\")\n",
        "print(np.sort_complex(complex_num))\n"
      ],
      "execution_count": null,
      "outputs": [
        {
          "output_type": "stream",
          "text": [
            "Given Original array:\n",
            "[(1+2j), (3-1j), (3-2j), (4-3j), (3+5j)]\n",
            "\n",
            "Sorted a given complex array using the real part first and then the imaginary part.\n",
            "[1.+2.j 3.-2.j 3.-1.j 3.+5.j 4.-3.j]\n"
          ],
          "name": "stdout"
        }
      ]
    },
    {
      "cell_type": "markdown",
      "metadata": {
        "id": "IwYElIf1qK4e"
      },
      "source": [
        "#Q.no.17."
      ]
    },
    {
      "cell_type": "code",
      "metadata": {
        "colab": {
          "base_uri": "https://localhost:8080/"
        },
        "id": "eE7smlsCqM2A",
        "outputId": "4bd99ab0-3db9-4a1b-b393-3adef2329f88"
      },
      "source": [
        "import numpy as np \n",
        "A = np.array([[1,2],\n",
        "              [11,12],\n",
        "              [12,15]])\n",
        "print(\"MAtrix A:\\n\", A)\n",
        "B = np.array([[1,2,3],\n",
        "              [11,12,13]])\n",
        "print(\"Matrix B:\\n\", B)\n",
        "print(\"The product of Matrix A and the Matrix B is :\\n\",np.dot(A,B))"
      ],
      "execution_count": null,
      "outputs": [
        {
          "output_type": "stream",
          "text": [
            "MAtrix A:\n",
            " [[ 1  2]\n",
            " [11 12]\n",
            " [12 15]]\n",
            "Matrix B:\n",
            " [[ 1  2  3]\n",
            " [11 12 13]]\n",
            "The product of Matrix A and the Matrix B is :\n",
            " [[ 23  26  29]\n",
            " [143 166 189]\n",
            " [177 204 231]]\n"
          ],
          "name": "stdout"
        }
      ]
    },
    {
      "cell_type": "markdown",
      "metadata": {
        "id": "1qnqYo5irNTp"
      },
      "source": [
        "#Q.no.18."
      ]
    },
    {
      "cell_type": "code",
      "metadata": {
        "colab": {
          "base_uri": "https://localhost:8080/"
        },
        "id": "_Zb5yg0Qrewn",
        "outputId": "544ea368-37b0-4de3-e5c4-46fad9888fd6"
      },
      "source": [
        "import numpy as np\n",
        "x = np.array([1., 5., 6., 9.], np.float32)\n",
        "print(\"Original array: \")\n",
        "print(x)\n",
        "print(\"\\ne^x, element-wise of the given array:\")\n",
        "r = np.exp(x)\n",
        "print(r)\n"
      ],
      "execution_count": null,
      "outputs": [
        {
          "output_type": "stream",
          "text": [
            "Original array: \n",
            "[1. 5. 6. 9.]\n",
            "\n",
            "e^x, element-wise of the given array:\n",
            "[2.7182820e+00 1.4841316e+02 4.0342877e+02 8.1030840e+03]\n"
          ],
          "name": "stdout"
        }
      ]
    },
    {
      "cell_type": "markdown",
      "metadata": {
        "id": "W6pPqh5MrzvB"
      },
      "source": [
        "#Q.no.19"
      ]
    },
    {
      "cell_type": "code",
      "metadata": {
        "colab": {
          "base_uri": "https://localhost:8080/"
        },
        "id": "sVd639TBr1uI",
        "outputId": "189f59f5-6e7a-4566-8797-770791adf6e2"
      },
      "source": [
        "import numpy as np\n",
        "x = np.array([1, 2.5, 56, 19])\n",
        "print(\"Given original array:\\n\", x)\n",
        "print(\"Natural log =\", np.log(x))\n",
        "print(\"Common log =\", np.log10(x))\n",
        "print(\"Base 2 log =\", np.log2(x))\n"
      ],
      "execution_count": null,
      "outputs": [
        {
          "output_type": "stream",
          "text": [
            "Given original array:\n",
            " [ 1.   2.5 56.  19. ]\n",
            "Natural log = [0.         0.91629073 4.02535169 2.94443898]\n",
            "Common log = [0.         0.39794001 1.74818803 1.2787536 ]\n",
            "Base 2 log = [0.         1.32192809 5.80735492 4.24792751]\n"
          ],
          "name": "stdout"
        }
      ]
    },
    {
      "cell_type": "markdown",
      "metadata": {
        "id": "4-B2wq6_s0Nl"
      },
      "source": [
        "#Q.no.20."
      ]
    },
    {
      "cell_type": "code",
      "metadata": {
        "colab": {
          "base_uri": "https://localhost:8080/"
        },
        "id": "5est_A1xs2I4",
        "outputId": "672a4efc-3f2c-4d52-ea30-4dfdb4e1cd3f"
      },
      "source": [
        "import numpy as np\n",
        "x = np.arange(12).reshape((2, 6))\n",
        "print(\"\\nGiven Original array:\\n\", x)\n",
        "a1 = np.ptp(x, 1)\n",
        "a2 = np.amax(x, 1) - np.amin(x, 1)\n",
        "assert np.allclose(a1, a2)\n",
        "print(\"\\nDifference between the maximum and the minimum values of the given array:\")\n",
        "print(a2)\n"
      ],
      "execution_count": 2,
      "outputs": [
        {
          "output_type": "stream",
          "text": [
            "\n",
            "Given Original array:\n",
            " [[ 0  1  2  3  4  5]\n",
            " [ 6  7  8  9 10 11]]\n",
            "\n",
            "Difference between the maximum and the minimum values of the given array:\n",
            "[5 5]\n"
          ],
          "name": "stdout"
        }
      ]
    },
    {
      "cell_type": "markdown",
      "metadata": {
        "id": "GE2aix4Mt2Tk"
      },
      "source": [
        "#Q.no.21."
      ]
    },
    {
      "cell_type": "code",
      "metadata": {
        "colab": {
          "base_uri": "https://localhost:8080/"
        },
        "id": "EfhM01rRuh7L",
        "outputId": "f10757e5-fd04-4bea-fd8d-611da8740962"
      },
      "source": [
        "import numpy as np\n",
        "x = np.arange(12).reshape((2, 6))\n",
        "print(\"\\nGiven Original array:\")\n",
        "print(x)\n",
        "r1 =  np.median(x)\n",
        "print(\"\\nMedian of the given array:\")\n",
        "print(r1)\n"
      ],
      "execution_count": null,
      "outputs": [
        {
          "output_type": "stream",
          "text": [
            "\n",
            "Given Original array:\n",
            "[[ 0  1  2  3  4  5]\n",
            " [ 6  7  8  9 10 11]]\n",
            "\n",
            "Median of the given array:\n",
            "5.5\n"
          ],
          "name": "stdout"
        }
      ]
    },
    {
      "cell_type": "markdown",
      "metadata": {
        "id": "ZH3sE_oEu0PN"
      },
      "source": [
        "#Q.no.22."
      ]
    },
    {
      "cell_type": "code",
      "metadata": {
        "colab": {
          "base_uri": "https://localhost:8080/"
        },
        "id": "xwyTA7elu2lq",
        "outputId": "34c41f36-6563-4dd0-9c20-184b04f95ace"
      },
      "source": [
        "import numpy as np\n",
        "x = np.array([0, 1, 3])\n",
        "y = np.array([2, 4, 5])\n",
        "print(\"\\nGiven Original array1:\")\n",
        "print(x)\n",
        "print(\"\\nGiven Original array2:\")\n",
        "print(y)\n",
        "print(\"\\nCross-correlation of the two arrays:\\n\",np.cov(x, y))\n"
      ],
      "execution_count": null,
      "outputs": [
        {
          "output_type": "stream",
          "text": [
            "\n",
            "Given Original array1:\n",
            "[0 1 3]\n",
            "\n",
            "Given Original array2:\n",
            "[2 4 5]\n",
            "\n",
            "Cross-correlation of the two arrays:\n",
            " [[2.33333333 2.16666667]\n",
            " [2.16666667 2.33333333]]\n"
          ],
          "name": "stdout"
        }
      ]
    },
    {
      "cell_type": "markdown",
      "metadata": {
        "id": "tZLJV6DtvTGQ"
      },
      "source": [
        "#Q.no.23."
      ]
    },
    {
      "cell_type": "code",
      "metadata": {
        "colab": {
          "base_uri": "https://localhost:8080/"
        },
        "id": "Fz9HTpLWvVzg",
        "outputId": "1344734d-10a3-43b8-a708-7e62160c2768"
      },
      "source": [
        "import numpy as np\n",
        "array1 = [0, 1, 6, 1, 4, 1, 2, 2, 7] \n",
        "print(\"Given Original array:\")\n",
        "print(array1)\n",
        "print(\"Number of occurrences of each value in array: \")\n",
        "print(np.bincount(array1))\n"
      ],
      "execution_count": null,
      "outputs": [
        {
          "output_type": "stream",
          "text": [
            "Given Original array:\n",
            "[0, 1, 6, 1, 4, 1, 2, 2, 7]\n",
            "Number of occurrences of each value in array: \n",
            "[1 3 2 0 1 0 1 1]\n"
          ],
          "name": "stdout"
        }
      ]
    },
    {
      "cell_type": "markdown",
      "metadata": {
        "id": "vUyXkG6xwPOQ"
      },
      "source": [
        "#Q.no.24."
      ]
    },
    {
      "cell_type": "code",
      "metadata": {
        "colab": {
          "base_uri": "https://localhost:8080/"
        },
        "id": "f9iD1wJpwR7b",
        "outputId": "67ddbc7c-9690-45dd-d751-207462c59466"
      },
      "source": [
        "import numpy as np\n",
        "print(\"May, 2021\")\n",
        "print(np.arange('2021-05', '2021-06', dtype='datetime64[D]'))\n"
      ],
      "execution_count": null,
      "outputs": [
        {
          "output_type": "stream",
          "text": [
            "May, 2021\n",
            "['2021-05-01' '2021-05-02' '2021-05-03' '2021-05-04' '2021-05-05'\n",
            " '2021-05-06' '2021-05-07' '2021-05-08' '2021-05-09' '2021-05-10'\n",
            " '2021-05-11' '2021-05-12' '2021-05-13' '2021-05-14' '2021-05-15'\n",
            " '2021-05-16' '2021-05-17' '2021-05-18' '2021-05-19' '2021-05-20'\n",
            " '2021-05-21' '2021-05-22' '2021-05-23' '2021-05-24' '2021-05-25'\n",
            " '2021-05-26' '2021-05-27' '2021-05-28' '2021-05-29' '2021-05-30'\n",
            " '2021-05-31']\n"
          ],
          "name": "stdout"
        }
      ]
    },
    {
      "cell_type": "markdown",
      "metadata": {
        "id": "c8GD9ctMw6C6"
      },
      "source": [
        "#Q.no.25."
      ]
    },
    {
      "cell_type": "code",
      "metadata": {
        "colab": {
          "base_uri": "https://localhost:8080/"
        },
        "id": "yx_S4se8w7rP",
        "outputId": "22b7629f-2c9f-4d6a-ea97-d812cbd671d4"
      },
      "source": [
        "import numpy as np\n",
        "A = np.array(['Python', 'PHP'], dtype=np.str)\n",
        "B = np.array([' Java', ' C++'], dtype=np.str)\n",
        "print(\"Array1:\")\n",
        "print(A)\n",
        "print(\"Array2:\")\n",
        "print(B)\n",
        "new_array = np.char.add(A, B)\n",
        "print(\"tAfter the concatenation the new array:\")\n",
        "print(new_array)\n"
      ],
      "execution_count": null,
      "outputs": [
        {
          "output_type": "stream",
          "text": [
            "Array1:\n",
            "['Python' 'PHP']\n",
            "Array2:\n",
            "[' Java' ' C++']\n",
            "tAfter the concatenation the new array:\n",
            "['Python Java' 'PHP C++']\n"
          ],
          "name": "stdout"
        }
      ]
    }
  ]
}