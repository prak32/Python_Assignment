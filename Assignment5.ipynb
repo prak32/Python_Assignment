{
  "nbformat": 4,
  "nbformat_minor": 0,
  "metadata": {
    "colab": {
      "name": "Assignment5.ipynb",
      "provenance": [],
      "collapsed_sections": [],
      "authorship_tag": "ABX9TyM4sB6jgZ5eMiuEoHzrFXvo",
      "include_colab_link": true
    },
    "kernelspec": {
      "name": "python3",
      "display_name": "Python 3"
    },
    "language_info": {
      "name": "python"
    }
  },
  "cells": [
    {
      "cell_type": "markdown",
      "metadata": {
        "id": "view-in-github",
        "colab_type": "text"
      },
      "source": [
        "<a href=\"https://colab.research.google.com/github/prak32/Python_Assignment/blob/master/Assignment5.ipynb\" target=\"_parent\"><img src=\"https://colab.research.google.com/assets/colab-badge.svg\" alt=\"Open In Colab\"/></a>"
      ]
    },
    {
      "cell_type": "markdown",
      "metadata": {
        "id": "ueGLPKrNTahh"
      },
      "source": [
        "#Q.no.1"
      ]
    },
    {
      "cell_type": "code",
      "metadata": {
        "id": "UeMGCcubTnZb",
        "colab": {
          "base_uri": "https://localhost:8080/"
        },
        "outputId": "0cf78ed5-de99-4965-8da8-a8756212e036"
      },
      "source": [
        "#Students = [‘jack’,’jill’,’david’,’silva’,’ronaldo’]\n",
        "#Marks = [‘55’,’56’,’57’,’66’,’76’]\n",
        "#Make a dictionary using lists above and delete the key-value (students:marks) pairs with lowest marks. \n",
        "dic = {'jack':55,'jill':56,'david':57,'silva':66,'ronaldo':76}\n",
        "print(dic)\n",
        "min_key=min(dic, key=dic.get)\n",
        "print(\"The student whose marks is less is:\", min_key)\n",
        "del dic[min_key]\n",
        "dic"
      ],
      "execution_count": 2,
      "outputs": [
        {
          "output_type": "stream",
          "text": [
            "{'jack': 55, 'jill': 56, 'david': 57, 'silva': 66, 'ronaldo': 76}\n",
            "The student whose marks is less is: jack\n"
          ],
          "name": "stdout"
        },
        {
          "output_type": "execute_result",
          "data": {
            "text/plain": [
              "{'david': 57, 'jill': 56, 'ronaldo': 76, 'silva': 66}"
            ]
          },
          "metadata": {
            "tags": []
          },
          "execution_count": 2
        }
      ]
    },
    {
      "cell_type": "markdown",
      "metadata": {
        "id": "k1tt8GzmCN6Q"
      },
      "source": [
        "#Q.no.2."
      ]
    },
    {
      "cell_type": "code",
      "metadata": {
        "id": "2Z8EhQ-scIo7",
        "colab": {
          "base_uri": "https://localhost:8080/"
        },
        "outputId": "6de30887-1dc0-4bfd-8079-fb6469db17c2"
      },
      "source": [
        "Euro = {'France':5,'Germany':2,'Portugal':3,'Hungary':6}\n",
        "\n",
        "countries=[]\n",
        "value=[]\n",
        "for country in Euro.keys():\n",
        "  countries.append(country)\n",
        "print(countries)\n",
        "for values in Euro.values():\n",
        "  value.append(values)\n",
        "print(value)\n"
      ],
      "execution_count": 3,
      "outputs": [
        {
          "output_type": "stream",
          "text": [
            "['France', 'Germany', 'Portugal', 'Hungary']\n",
            "[5, 2, 3, 6]\n"
          ],
          "name": "stdout"
        }
      ]
    },
    {
      "cell_type": "markdown",
      "metadata": {
        "id": "2JjfjTyxCSfy"
      },
      "source": [
        "#Q.no.3."
      ]
    },
    {
      "cell_type": "code",
      "metadata": {
        "id": "aPsAT4Jff2zU",
        "colab": {
          "base_uri": "https://localhost:8080/"
        },
        "outputId": "e3a31988-7d11-4059-d953-2fdc1aea6aa6"
      },
      "source": [
        "\n",
        "users = {'g91':{'name':'Aron','age':55,'poison':'Old monk'},\n",
        "        'twir56':{'name':'Visakha','age':26,'poison':'coca cola'},\n",
        "        'jsdl8':{'name':'Saudi','age':12,'poison':'hinwa'}}\n",
        "usernames=[]\n",
        "name=[]\n",
        "age=[]\n",
        "poison=[]\n",
        "for username in users.keys():\n",
        "  usernames.append(username)\n",
        "print(usernames)\n",
        "for name in users.values():\n",
        "  print(name)\n",
        "  "
      ],
      "execution_count": 4,
      "outputs": [
        {
          "output_type": "stream",
          "text": [
            "['g91', 'twir56', 'jsdl8']\n",
            "{'name': 'Aron', 'age': 55, 'poison': 'Old monk'}\n",
            "{'name': 'Visakha', 'age': 26, 'poison': 'coca cola'}\n",
            "{'name': 'Saudi', 'age': 12, 'poison': 'hinwa'}\n"
          ],
          "name": "stdout"
        }
      ]
    },
    {
      "cell_type": "markdown",
      "metadata": {
        "id": "gKaiXRUhS9dz"
      },
      "source": [
        "#Q.no.7."
      ]
    },
    {
      "cell_type": "code",
      "metadata": {
        "id": "lGMCGwQNPt8q"
      },
      "source": [
        "\n",
        "debts_list = [{'amount': 123.46, 'milk1_id': 0}, {'amount': 100, 'milk2_id': 1}, {'amount': 4920.34, 'milk3_id': 2}, {'amount': 12938, 'milk4_id': 3}, {'amount': 9238.02, 'milk5_id': 4},{'amount':5000.05,'milk6_id':5}]\n",
        "new_debt_dic = {}\n",
        "for i in debts_list:\n",
        "    for k, v in i.items():\n",
        "        new_debt_dic[k] = v\n",
        "print(new_debt_dic)\n"
      ],
      "execution_count": null,
      "outputs": []
    }
  ]
}