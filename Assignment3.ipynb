{
  "nbformat": 4,
  "nbformat_minor": 0,
  "metadata": {
    "colab": {
      "name": "Assignment3.ipynb",
      "provenance": [],
      "collapsed_sections": [],
      "authorship_tag": "ABX9TyOMU4i/kNnu2OJ9RKjB9Lbc",
      "include_colab_link": true
    },
    "kernelspec": {
      "name": "python3",
      "display_name": "Python 3"
    },
    "language_info": {
      "name": "python"
    }
  },
  "cells": [
    {
      "cell_type": "markdown",
      "metadata": {
        "id": "view-in-github",
        "colab_type": "text"
      },
      "source": [
        "<a href=\"https://colab.research.google.com/github/prak32/Python_Assignment/blob/master/Assignment3.ipynb\" target=\"_parent\"><img src=\"https://colab.research.google.com/assets/colab-badge.svg\" alt=\"Open In Colab\"/></a>"
      ]
    },
    {
      "cell_type": "markdown",
      "metadata": {
        "id": "QfJLjXl2ot6Q"
      },
      "source": [
        "#Q.no.1"
      ]
    },
    {
      "cell_type": "code",
      "metadata": {
        "colab": {
          "base_uri": "https://localhost:8080/"
        },
        "id": "8hE167JEoxgh",
        "outputId": "f73b8602-3f6f-4b04-e2f9-37d99145ca50"
      },
      "source": [
        "#Make a list of ten students in your class. Print the name of each student whose name starts with ‘B’.\n",
        "students=['Aashish', 'Bishal', 'Bibek', 'David', 'Rochak','Nikhil', 'Bishwo', 'Avisekh', 'Kushal', 'Bhairab']\n",
        "test = 'B'\n",
        "print(\"Given list of the students:\\n \" ,students)\n",
        "res = [idx for idx in students if idx[0].lower() == test.lower()]\n",
        "print(\"The name of the students whose name starts with 'B':\\n \" ,res)"
      ],
      "execution_count": null,
      "outputs": [
        {
          "output_type": "stream",
          "text": [
            "Given list of the students:\n",
            "  ['Aashish', 'Bishal', 'Bibek', 'David', 'Rochak', 'Nikhil', 'Bishwo', 'Avisekh', 'Kushal', 'Bhairab']\n",
            "The name of the students whose name starts with 'B':\n",
            "  ['Bishal', 'Bibek', 'Bishwo', 'Bhairab']\n"
          ],
          "name": "stdout"
        }
      ]
    },
    {
      "cell_type": "markdown",
      "metadata": {
        "id": "4dPem0jv36Ik"
      },
      "source": [
        "#Q.no.2."
      ]
    },
    {
      "cell_type": "code",
      "metadata": {
        "colab": {
          "base_uri": "https://localhost:8080/"
        },
        "id": "HPRpFXze38g6",
        "outputId": "fbeb19b6-2287-44ea-9533-876bdcb645b5"
      },
      "source": [
        "#Make a list of ten students in your class. Print the name of each student whose name ends with ‘a’.\n",
        "students = ['Aasha', 'pratigya', 'Prakash', 'Salina', 'Bipana', 'Hritika', 'Rachana', 'Bijaya', 'Alina', 'Samir']\n",
        "test = 'A'\n",
        "print(\"Given list of the students:\\n \" ,students)\n",
        "res = [idx for idx in students if idx[-1].upper() == test.upper()]\n",
        "print(\"The name of the students whose name starts with 'A':\\n \" ,res)"
      ],
      "execution_count": null,
      "outputs": [
        {
          "output_type": "stream",
          "text": [
            "Given list of the students:\n",
            "  ['Aasha', 'pratigya', 'Prakash', 'Salina', 'Bipana', 'Hritika', 'Rachana', 'Bijaya', 'Alina', 'Samir']\n",
            "The name of the students whose name starts with 'A':\n",
            "  ['Aasha', 'pratigya', 'Salina', 'Bipana', 'Hritika', 'Rachana', 'Bijaya', 'Alina']\n"
          ],
          "name": "stdout"
        }
      ]
    },
    {
      "cell_type": "markdown",
      "metadata": {
        "id": "VS4apIhK7J8e"
      },
      "source": [
        "#Q.no.3."
      ]
    },
    {
      "cell_type": "code",
      "metadata": {
        "colab": {
          "base_uri": "https://localhost:8080/"
        },
        "id": "NuLnDPi27M3v",
        "outputId": "32d32be9-ecef-4af5-b236-472620587ad3"
      },
      "source": [
        "#Print all the unique elements in the following list fifa = ['Italy','Argentina','Germany','Brazil','France','Brazil','Italy','Spain','Germany','France']\n",
        "import numpy\n",
        "fifa = ['Italy','Argentina','Germany','Brazil','France','Brazil','Italy','Spain','Germany','France']\n",
        "print(\"Given list:\", fifa)\n",
        "print(\"\\nUnique elements of the list are:\", numpy.unique(fifa))\n",
        "\n",
        "\n"
      ],
      "execution_count": 33,
      "outputs": [
        {
          "output_type": "stream",
          "text": [
            "Given list: ['Italy', 'Argentina', 'Germany', 'Brazil', 'France', 'Brazil', 'Italy', 'Spain', 'Germany', 'France']\n",
            "\n",
            "Unique elements of the list are: ['Argentina' 'Brazil' 'France' 'Germany' 'Italy' 'Spain']\n"
          ],
          "name": "stdout"
        }
      ]
    },
    {
      "cell_type": "markdown",
      "metadata": {
        "id": "BCowtUK0-BrT"
      },
      "source": [
        "#Q.no.4"
      ]
    },
    {
      "cell_type": "code",
      "metadata": {
        "colab": {
          "base_uri": "https://localhost:8080/"
        },
        "id": "ycz45uIe-DT8",
        "outputId": "54281365-6046-4666-cde9-145a5d0d02cb"
      },
      "source": [
        "#Change the first alphabet of all elements of the following list to capital. Bob = ['hurricane ','tambourine,'blowing,'numb']\n",
        "Bob = ['hurricane ', 'tambourine', 'blowing', 'numb']\n",
        "Bob = [Bob.title() for Bob in Bob] \n",
        "print(\"The elements starts with capital in the list are:\", Bob)\n",
        "\n"
      ],
      "execution_count": 26,
      "outputs": [
        {
          "output_type": "stream",
          "text": [
            "The elements starts with capital in the list are: ['Hurricane ', 'Tambourine', 'Blowing', 'Numb']\n"
          ],
          "name": "stdout"
        }
      ]
    },
    {
      "cell_type": "markdown",
      "metadata": {
        "id": "79bHT1pWAf-Q"
      },
      "source": [
        "#Q.no.5"
      ]
    },
    {
      "cell_type": "code",
      "metadata": {
        "colab": {
          "base_uri": "https://localhost:8080/"
        },
        "id": "OViSQCzBAhpd",
        "outputId": "36ae4a92-9601-4712-e310-e3b1345f559c"
      },
      "source": [
        "#A = ['a','b','c','d'] B = ['1','a','2','b'].Find A Union B and A intersection B.\n",
        "A = ['a','b','c','d'] \n",
        "B = ['1','a','2','b']\n",
        "C = list(set(A)|set(B))\n",
        "C.sort()\n",
        "D = list(set(A)&set(B))\n",
        "D.sort()\n",
        "print(\"A Union B:\", C)\n",
        "print(\"A intersection B:\", D)"
      ],
      "execution_count": 47,
      "outputs": [
        {
          "output_type": "stream",
          "text": [
            "A Union B: ['1', '2', 'a', 'b', 'c', 'd']\n",
            "A intersection B: ['a', 'b']\n"
          ],
          "name": "stdout"
        }
      ]
    },
    {
      "cell_type": "markdown",
      "metadata": {
        "id": "qvB4HDwA3HyM"
      },
      "source": [
        "#Q.no.6"
      ]
    },
    {
      "cell_type": "code",
      "metadata": {
        "colab": {
          "base_uri": "https://localhost:8080/"
        },
        "id": "o5cuAsPm3J_R",
        "outputId": "1a94eef0-bb21-4f09-dc72-70e1316d37d0"
      },
      "source": [
        "#Calculate the mean and standard deviation of the following list: Numbers = [1,2,3,5,88,99,55,33,41,52]\n",
        "import statistics\n",
        "Numbers = [1,2,3,5,88,99,55,33,41,52]\n",
        "avg = statistics.mean(Numbers)\n",
        "print(\"The mean of the numbers given in the lists:\", avg)\n",
        "std = statistics.stdev(Numbers)\n",
        "print(\"The standard deviation of the numbers given in the lists: %.4f\" %std)\n",
        "\n",
        "\n"
      ],
      "execution_count": 29,
      "outputs": [
        {
          "output_type": "stream",
          "text": [
            "The mean of the numbers given in the lists: 37.9\n",
            "The standard deviation of the numbers given in the lists: 36.0846\n"
          ],
          "name": "stdout"
        }
      ]
    }
  ]
}