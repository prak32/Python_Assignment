{
  "nbformat": 4,
  "nbformat_minor": 0,
  "metadata": {
    "colab": {
      "name": "Assignment2.ipynb",
      "provenance": [],
      "collapsed_sections": [],
      "authorship_tag": "ABX9TyMgpPEJdEeAdVi2Ok7wQ4O3",
      "include_colab_link": true
    },
    "kernelspec": {
      "name": "python3",
      "display_name": "Python 3"
    },
    "language_info": {
      "name": "python"
    }
  },
  "cells": [
    {
      "cell_type": "markdown",
      "metadata": {
        "id": "view-in-github",
        "colab_type": "text"
      },
      "source": [
        "<a href=\"https://colab.research.google.com/github/prak32/Python_Assignment/blob/master/Assignment2.ipynb\" target=\"_parent\"><img src=\"https://colab.research.google.com/assets/colab-badge.svg\" alt=\"Open In Colab\"/></a>"
      ]
    },
    {
      "cell_type": "markdown",
      "metadata": {
        "id": "wURZMOzMa_d6"
      },
      "source": [
        " **Q.no.1.**\n",
        "\n"
      ]
    },
    {
      "cell_type": "code",
      "metadata": {
        "id": "L3jS7nj6bCvx",
        "colab": {
          "base_uri": "https://localhost:8080/"
        },
        "outputId": "91d92c50-c24b-49cb-a901-3594f73b6c44"
      },
      "source": [
        "#Convert tuples to list.\n",
        "tuple_a = (9,8,1,8,6,5,6,0,2,3)\n",
        "print(list(tuple_a))\n",
        "\n",
        "tuple_b = ('Prakash', 'Nikhil', 'Rochak')\n",
        "print(list(tuple_b))\n",
        "\n",
        "tuple_c = ('a', 2.0, 'Janak', 4)\n",
        "print(list(tuple_c))\n"
      ],
      "execution_count": 4,
      "outputs": [
        {
          "output_type": "stream",
          "text": [
            "[9, 8, 1, 8, 6, 5, 6, 0, 2, 3]\n",
            "['Prakash', 'Nikhil', 'Rochak']\n",
            "['a', 2.0, 'Janak', 4]\n"
          ],
          "name": "stdout"
        }
      ]
    },
    {
      "cell_type": "markdown",
      "metadata": {
        "id": "enNfeUQoeUUZ"
      },
      "source": [
        "**Q.no.2**"
      ]
    },
    {
      "cell_type": "code",
      "metadata": {
        "colab": {
          "base_uri": "https://localhost:8080/"
        },
        "id": "nO6xRPrBeYAi",
        "outputId": "f6de1538-a169-44cf-ec43-2e6f96e26f16"
      },
      "source": [
        "#Write a program to calculate direction and magnitude of the vector described by the following points.\n",
        "#A = (20,30)\n",
        "#B = (30,40)\n",
        "import math\n",
        "A= [20, 30]\n",
        "B= [30, 40]\n",
        "mag= math.sqrt( ((B[0]-A[0])**2)+((B[1]-A[1])**2) )\n",
        "print(\"The required magnitude of the Vector AB(|AB|)is %.4f\" %mag)\n",
        "y=B[1]-A[1]\n",
        "x=B[0]-A[0]\n",
        "ang = math.degrees(math.atan(y/x))\n",
        "print(\"0= %.4f\" %ang,\"°\")\n",
        "print(\"And, \\n The direction of the vector AB is %.4f\" %ang,\"°\")\n",
        "\n"
      ],
      "execution_count": 32,
      "outputs": [
        {
          "output_type": "stream",
          "text": [
            "The required magnitude of the Vector AB(|AB|)is 14.1421\n",
            "0= 45.0000 °\n",
            "And, \n",
            " The direction of the vector AB is 45.0000 °\n"
          ],
          "name": "stdout"
        }
      ]
    },
    {
      "cell_type": "markdown",
      "metadata": {
        "id": "jwTvn2uMsnIf"
      },
      "source": [
        "**Q.no.3**"
      ]
    },
    {
      "cell_type": "code",
      "metadata": {
        "colab": {
          "base_uri": "https://localhost:8080/"
        },
        "id": "d1go79N4sqCV",
        "outputId": "a78daf99-3609-480f-8b03-3373ad536a3d"
      },
      "source": [
        "#Write a program to demonstrate data types that can be elements of a tuple.\n",
        "# tuple of strings\n",
        "data1= (\"Thanks\", \"Guys\", \"bye\")\n",
        "print(data1)\n",
        "\n",
        "# tuple of int, float, string\n",
        "data2 = (1, 2.8, \"Thank You\")\n",
        "print(data2)\n",
        "\n",
        "# tuple of string and list\n",
        "data3 = (\"Book\", [1, 2, 3])\n",
        "print(data3)\n",
        "\n",
        "# tuple inside another tuple (nested tuple)\n",
        "data4 = ((2, 3, 4), (2, -5, \"Morning\"))\n",
        "print(data4)\n",
        "\n",
        "#tuple of a set\n",
        "data5=( {1, \"hello\", 'a'} )\n",
        "print(data5)"
      ],
      "execution_count": 42,
      "outputs": [
        {
          "output_type": "stream",
          "text": [
            "('Thanks', 'Guys', 'bye')\n",
            "(1, 2.8, 'Thank You')\n",
            "('Book', [1, 2, 3])\n",
            "((2, 3, 4), (2, -5, 'Morning'))\n",
            "{1, 'hello', 'a'}\n"
          ],
          "name": "stdout"
        }
      ]
    }
  ]
}