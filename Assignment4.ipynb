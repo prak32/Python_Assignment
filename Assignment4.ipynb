{
  "nbformat": 4,
  "nbformat_minor": 0,
  "metadata": {
    "colab": {
      "name": "Assignment4.ipynb",
      "provenance": [],
      "collapsed_sections": [],
      "authorship_tag": "ABX9TyNbjWLlxNhLgv69g6WX8QGN",
      "include_colab_link": true
    },
    "kernelspec": {
      "name": "python3",
      "display_name": "Python 3"
    },
    "language_info": {
      "name": "python"
    }
  },
  "cells": [
    {
      "cell_type": "markdown",
      "metadata": {
        "id": "view-in-github",
        "colab_type": "text"
      },
      "source": [
        "<a href=\"https://colab.research.google.com/github/prak32/Python_Assignment/blob/master/Assignment4.ipynb\" target=\"_parent\"><img src=\"https://colab.research.google.com/assets/colab-badge.svg\" alt=\"Open In Colab\"/></a>"
      ]
    },
    {
      "cell_type": "markdown",
      "metadata": {
        "id": "5IEXpWVeB93w"
      },
      "source": [
        "#Q.no.1"
      ]
    },
    {
      "cell_type": "code",
      "metadata": {
        "colab": {
          "base_uri": "https://localhost:8080/"
        },
        "id": "bDN71e4ZCCjr",
        "outputId": "502df026-618a-46b3-c4a3-8fb1eff03445"
      },
      "source": [
        "#Write a python program to find the largest of three numbers .\n",
        "a = int(input(\"Enter a first number:\"))\n",
        "b = int(input(\"Enter a second number:\"))\n",
        "c = int(input(\"Enter a third number:\"))\n",
        "if (a > b and a > c):\n",
        "  print(a ,\"is the largest number.\")\n",
        "elif (b > a and b > c):\n",
        "  print(b, \"is the largest number.\")\n",
        "else:\n",
        "  print(c, \"is the largest number.\")"
      ],
      "execution_count": null,
      "outputs": [
        {
          "output_type": "stream",
          "text": [
            "Enter a first number:7\n",
            "Enter a second number:2\n",
            "Enter a third number:6\n",
            "7 is the largest number.\n"
          ],
          "name": "stdout"
        }
      ]
    },
    {
      "cell_type": "markdown",
      "metadata": {
        "id": "d_6VUmwcDmGc"
      },
      "source": [
        "#Q.no.2."
      ]
    },
    {
      "cell_type": "code",
      "metadata": {
        "colab": {
          "base_uri": "https://localhost:8080/"
        },
        "id": "TM92OQY6DqbW",
        "outputId": "159ca2db-ebaa-4d18-e20a-cee7ed83ae9f"
      },
      "source": [
        "#Write a python program to check whether a character is uppercase or lowercase alphabet.\n",
        "char=input(\"Enter your character: \")[0]\n",
        "if (char>='A' and char<='Z'):\n",
        "    print(char,\" is an uppercase alphabet.\")\n",
        "elif (char>='a' and char<='z'):\n",
        "    print(char,\" is a lowercase alphabet.\")\n",
        "else:\n",
        "    print(char,\" is not in alphabet.\")\n",
        "    "
      ],
      "execution_count": null,
      "outputs": [
        {
          "output_type": "stream",
          "text": [
            "Enter your character: P\n",
            "P  is an uppercase alphabet.\n"
          ],
          "name": "stdout"
        }
      ]
    },
    {
      "cell_type": "markdown",
      "metadata": {
        "id": "bdN895ZIFcuG"
      },
      "source": [
        "#Q.no.3."
      ]
    },
    {
      "cell_type": "code",
      "metadata": {
        "colab": {
          "base_uri": "https://localhost:8080/"
        },
        "id": "WlEYS2w0Fe-O",
        "outputId": "cddde6c3-44a0-4b0d-b887-bedd3f183248"
      },
      "source": [
        "#WAP to find whether given input is number or character.\n",
        "choice = input(\"Enter your choice: \")\n",
        "if ((choice>='A' and  choice<='Z') or (choice>='a' and choice<='z')):\n",
        "  print(choice, \"is an alphabet.\")\n",
        "elif (choice > '0'):\n",
        "  print(choice, \"is a number\")\n",
        "else:\n",
        "  print(\"It is neither number nor alphabetic character\")"
      ],
      "execution_count": null,
      "outputs": [
        {
          "output_type": "stream",
          "text": [
            "Enter your choice: 8888\n",
            "8888 is a number\n"
          ],
          "name": "stdout"
        }
      ]
    },
    {
      "cell_type": "markdown",
      "metadata": {
        "id": "G2m4srsRH-hS"
      },
      "source": [
        "#Q.no.4."
      ]
    },
    {
      "cell_type": "code",
      "metadata": {
        "colab": {
          "base_uri": "https://localhost:8080/"
        },
        "id": "7jrL6BqrIAQl",
        "outputId": "bbd7528d-9caf-41ec-cf04-c612198645e4"
      },
      "source": [
        "#Write a program to check whether the input alphabet is vowel or not using if-else.\n",
        "char=input(\"Enter your character: \")[0]\n",
        "if (char=='a'or char=='A' or char=='e' or char=='E' or char=='i' or char=='o' or char=='O' or char=='u' or char=='U'):\n",
        "  print(char, 'is a vowel alphabet.')\n",
        "else:\n",
        "  print(char, 'is not a vowel alphabet.')"
      ],
      "execution_count": null,
      "outputs": [
        {
          "output_type": "stream",
          "text": [
            "Enter your character: bag\n",
            "b is not a vowel alphabet.\n"
          ],
          "name": "stdout"
        }
      ]
    },
    {
      "cell_type": "markdown",
      "metadata": {
        "id": "XsGJwjwuMbUy"
      },
      "source": [
        "#Q.no.5."
      ]
    },
    {
      "cell_type": "code",
      "metadata": {
        "colab": {
          "base_uri": "https://localhost:8080/"
        },
        "id": "SuXxUZpOJBJC",
        "outputId": "bfabe3ab-bada-4837-f647-97daf5b69a2d"
      },
      "source": [
        "#Write a program to check whether the entered year is leap year or not.\n",
        "y = int(input(\"Enter the Year: \"))\n",
        "if y%4==0 and y%100!=0:\n",
        "    print(y, \"is a Leap Year\")\n",
        "elif y%400==0:\n",
        "    print(y, \"is a Leap Year\")\n",
        "else:\n",
        "  print(y, \"is not a leap year.\")"
      ],
      "execution_count": null,
      "outputs": [
        {
          "output_type": "stream",
          "text": [
            "Enter the Year: 2900\n",
            "2900 is not a leap year.\n"
          ],
          "name": "stdout"
        }
      ]
    },
    {
      "cell_type": "markdown",
      "metadata": {
        "id": "43Ff12LZOB5W"
      },
      "source": [
        "#Q.no.6."
      ]
    },
    {
      "cell_type": "code",
      "metadata": {
        "colab": {
          "base_uri": "https://localhost:8080/"
        },
        "id": "dDKReiaGNx6c",
        "outputId": "6f0bddc8-deb2-44ca-e6df-ac1e1725bcfa"
      },
      "source": [
        "#Write a program to check if the number is Armstrong or not.\n",
        "num=int(input(\"Enter your number:\"))\n",
        "order = len(str(num))\n",
        "sum = 0\n",
        "temp = num\n",
        "while temp > 0:\n",
        "   rem= temp % 10\n",
        "   sum += rem ** order\n",
        "   temp //= 10\n",
        "if num == sum:\n",
        "   print(num, \"is an Armstrong number.\")\n",
        "else:\n",
        "   print(num, \"is not an Armstrong number.\")\n"
      ],
      "execution_count": null,
      "outputs": [
        {
          "output_type": "stream",
          "text": [
            "Enter your number:153\n",
            "153 is an Armstrong number.\n"
          ],
          "name": "stdout"
        }
      ]
    },
    {
      "cell_type": "markdown",
      "metadata": {
        "id": "qg_ipJxRP7Cr"
      },
      "source": [
        "#Q.no.7"
      ]
    },
    {
      "cell_type": "code",
      "metadata": {
        "colab": {
          "base_uri": "https://localhost:8080/"
        },
        "id": "AknFxWZQP9Wd",
        "outputId": "a03cd1ec-e70f-48b6-819c-7ff593599c2a"
      },
      "source": [
        "#Write a program to compute the grade from marks. \n",
        "#Marks       Grade\n",
        "#marks<=50      F\n",
        "#60>=marks>50   E\n",
        "#70>=marks>60   D\n",
        "#80>=marks>70   C\n",
        "#90>=marks>80   B\n",
        "#100>=marks>90  A\n",
        "marks=int(input(\"Enter the marks:\"))\n",
        "if (marks<=50):\n",
        "  print(\"Grade:F\" )\n",
        "elif (marks>50 and marks<=60):\n",
        "  print(\"Grade:E\")\n",
        "elif (marks>60 and marks<=70):\n",
        "  print(\"Grade:D\")\n",
        "elif (marks>70 and marks<=80):\n",
        "  print(\"Grade:C\")\n",
        "elif (marks>80 and marks<=90):\n",
        "  print(\"Grade:B\")\n",
        "elif (marks>90 and marks<=100):\n",
        "  print(\"Grade:A\")"
      ],
      "execution_count": null,
      "outputs": [
        {
          "output_type": "stream",
          "text": [
            "Enter the marks:98\n",
            "Grade:A\n"
          ],
          "name": "stdout"
        }
      ]
    }
  ]
}