{
  "nbformat": 4,
  "nbformat_minor": 0,
  "metadata": {
    "colab": {
      "name": "Assignment6.ipynb",
      "private_outputs": true,
      "provenance": [],
      "collapsed_sections": [],
      "authorship_tag": "ABX9TyNP2p8clb7FSPMBLrbd6Iv3",
      "include_colab_link": true
    },
    "kernelspec": {
      "name": "python3",
      "display_name": "Python 3"
    },
    "language_info": {
      "name": "python"
    }
  },
  "cells": [
    {
      "cell_type": "markdown",
      "metadata": {
        "id": "view-in-github",
        "colab_type": "text"
      },
      "source": [
        "<a href=\"https://colab.research.google.com/github/prak32/Python_Assignment/blob/master/Assignment6.ipynb\" target=\"_parent\"><img src=\"https://colab.research.google.com/assets/colab-badge.svg\" alt=\"Open In Colab\"/></a>"
      ]
    },
    {
      "cell_type": "markdown",
      "metadata": {
        "id": "onaHhbVg5eyW"
      },
      "source": [
        "#Q.no.1."
      ]
    },
    {
      "cell_type": "code",
      "metadata": {
        "id": "FCMFlako5gwU"
      },
      "source": [
        "#bird = ['crows','pigeon','eagles','falcon','pigeon','falcon','falcon']\n",
        "#Remove all the duplicates from the following list using while.\n",
        "bird = ['crows','pigeon','eagles','falcon','pigeon','falcon','falcon']\n",
        "index = 0\n",
        "while index < len(bird):\n",
        "    if bird[index] in bird[ : index]:\n",
        "        bird.pop(index)\n",
        "    else:\n",
        "        index += 1\n",
        "\n",
        "print(\"The remaining elements of the lists after removing dupicates is:\", bird)"
      ],
      "execution_count": null,
      "outputs": []
    },
    {
      "cell_type": "markdown",
      "metadata": {
        "id": "mnIOWPB4-tK0"
      },
      "source": [
        "#Q.no.2."
      ]
    },
    {
      "cell_type": "code",
      "metadata": {
        "id": "YmkBKSlT-vjw"
      },
      "source": [
        "#Deli: Make a list called sandwich_orders and fill it with the names of various sandwiches. Then make an empty list called finished_sandwiches . Loop through the list of sandwich orders and print a message for each order, such as I made your tuna sandwich. As each sandwich is made, move it to the list of finished sandwiches. After all the sandwiches have been made, print a message listing each sandwich that was made.\n",
        "sandwich_orders = ['spicy', 'butter cheese', 'german', 'roast beef']\n",
        "finished_sandwiches = []\n",
        "\n",
        "while sandwich_orders:\n",
        "    current_sandwich = sandwich_orders.pop()\n",
        "    print(\"I am working on \" + current_sandwich + \" sandwich.\")\n",
        "    finished_sandwiches.append(current_sandwich)\n",
        "\n",
        "print(\"\\n\")\n",
        "for sandwich in finished_sandwiches:\n",
        "    print(\"I made a \" + sandwich + \" sandwich.\")\n"
      ],
      "execution_count": null,
      "outputs": []
    },
    {
      "cell_type": "markdown",
      "metadata": {
        "id": "zb_ulGRZCdpk"
      },
      "source": [
        "#Q.no.3."
      ]
    },
    {
      "cell_type": "code",
      "metadata": {
        "id": "jKmF2WTACfVj"
      },
      "source": [
        "#Dream Vacation: Write a program that polls users about their dream vacation. Write a prompt similar to If you could visit one place in the world, where would you go? Include a block of code that prints the results of the poll.\n",
        "\n",
        "name_prompt = \"\\nWhat's your name? \"\n",
        "place_prompt = \"If you could visit one place in the world, where would it be? \"\n",
        "continue_prompt = \"\\nWould you like to let someone's recommendation? (yes/no) \"\n",
        "\n",
        "responses = {}\n",
        "\n",
        "while True:\n",
        "    name = input(name_prompt)\n",
        "    place = input(place_prompt)\n",
        "    responses[name] = place\n",
        "    repeat = input(continue_prompt)\n",
        "    if repeat != 'yes':\n",
        "        break\n",
        "print(\"\\nConclusion:\")\n",
        "for name, place in responses.items():\n",
        "    print(name.title() + \" would like to visit \" + place.title() + \".\")\n"
      ],
      "execution_count": null,
      "outputs": []
    }
  ]
}