{
  "nbformat": 4,
  "nbformat_minor": 0,
  "metadata": {
    "colab": {
      "name": "Assignment8.ipynb",
      "private_outputs": true,
      "provenance": [],
      "collapsed_sections": [],
      "authorship_tag": "ABX9TyO/1HEJ5jdbBk2dSvHAOCgd",
      "include_colab_link": true
    },
    "kernelspec": {
      "name": "python3",
      "display_name": "Python 3"
    },
    "language_info": {
      "name": "python"
    }
  },
  "cells": [
    {
      "cell_type": "markdown",
      "metadata": {
        "id": "view-in-github",
        "colab_type": "text"
      },
      "source": [
        "<a href=\"https://colab.research.google.com/github/prak32/Python_Assignment/blob/master/Assignment8.ipynb\" target=\"_parent\"><img src=\"https://colab.research.google.com/assets/colab-badge.svg\" alt=\"Open In Colab\"/></a>"
      ]
    },
    {
      "cell_type": "code",
      "metadata": {
        "id": "hLP0FIWis2NR"
      },
      "source": [
        "#Q.no.1\n",
        "def power(x, y):\n",
        " \n",
        "    if(y == 0): \n",
        "      return 1\n",
        "    temp = power(x, int(y / 2))\n",
        "    if (y % 2 == 0):\n",
        "        return temp * temp\n",
        "    else:\n",
        "        if(y > 0): \n",
        "          return x * temp * temp\n",
        "        else: \n",
        "          return (temp * temp) / x\n",
        "x = int(input(\"Enter the number whose power is to be calculated:\"))\n",
        "y= int(input(\"Ente the power:\"))\n",
        "print(\"The power of the required number is %.4f\" %(power(x, y)))\n"
      ],
      "execution_count": null,
      "outputs": []
    },
    {
      "cell_type": "code",
      "metadata": {
        "id": "bwuMNTvyqS4H"
      },
      "source": [
        "#Q.no.2.\n",
        "def multiply(*num):\n",
        "\ttotal=1\n",
        "\tfor i in num:\n",
        "\t\ttotal=total*i\n",
        "\treturn total\n",
        "print (\"The multiplication of the given numbers is\", multiply(1,2,3,4,5,6))\n"
      ],
      "execution_count": null,
      "outputs": []
    },
    {
      "cell_type": "code",
      "metadata": {
        "id": "9AxqtWbvWdGn"
      },
      "source": [
        "#Q.no.3.\n",
        "def factorial(num):\n",
        "  if num == 0:\n",
        "    return 1\n",
        "  else:\n",
        "    return num * factorial(num-1)\n",
        "num = int(input(\"Enter the number whose factorial is to be calculated:\"))\n",
        "print((factorial(num)))"
      ],
      "execution_count": null,
      "outputs": []
    },
    {
      "cell_type": "code",
      "metadata": {
        "id": "wGMsyqeLW-_D"
      },
      "source": [
        "#Q.no.4.\n",
        "def string(s):\n",
        "    d={\"UPPER_CASE\":0, \"LOWER_CASE\":0}\n",
        "    for c in s:\n",
        "        if c.isupper():\n",
        "           d[\"UPPER_CASE\"]+=1\n",
        "        elif c.islower():\n",
        "           d[\"LOWER_CASE\"]+=1\n",
        "        else:\n",
        "           pass\n",
        "    print (\"Given Strign : \", s)\n",
        "    print (\"No. of Upper case characters : \", d[\"UPPER_CASE\"])\n",
        "    print (\"No. of Lower case Characters : \", d[\"LOWER_CASE\"])\n",
        "string('My Name is Prakash Shrestha')\n"
      ],
      "execution_count": null,
      "outputs": []
    },
    {
      "cell_type": "code",
      "metadata": {
        "id": "qczGc0sgcV_D"
      },
      "source": [
        "#Q.no.5.\n",
        "def unique_list(l):\n",
        "  a = []\n",
        "  for x in l:\n",
        "    if x not in a:\n",
        "      a.append(x)\n",
        "  return a\n",
        "print(\"The new list with unique elements is\", unique_list([1,2,4,5,4,3,3,6]))"
      ],
      "execution_count": null,
      "outputs": []
    },
    {
      "cell_type": "code",
      "metadata": {
        "id": "f5PfjQQPepZo"
      },
      "source": [
        "#Q.no.6.\n",
        "def is_even_num(l):\n",
        "    evnum = []\n",
        "    for n in l:\n",
        "        if n % 2 == 0:\n",
        "            evnum.append(n)\n",
        "    return evnum\n",
        "print(\"The required even number from list is\", is_even_num([1, 2, 3, 4, 5, 6, 7, 8, 9]))\n"
      ],
      "execution_count": null,
      "outputs": []
    },
    {
      "cell_type": "code",
      "metadata": {
        "id": "XGt9SaW7fGGB"
      },
      "source": [
        "#Q.no.7.\n",
        "import string, sys\n",
        "def ispangram(str1, alphabet=string.ascii_lowercase):\n",
        "    alphaset = set(alphabet)\n",
        "    return alphaset <= set(str1.lower())\n",
        " \n",
        "print ( ispangram('The great wall of China.')) \n"
      ],
      "execution_count": null,
      "outputs": []
    },
    {
      "cell_type": "code",
      "metadata": {
        "id": "6tAEoth8ft46"
      },
      "source": [
        "#Q.no.8.\n",
        "items=[n for n in input().split('-')]\n",
        "items.sort()\n",
        "print(\"Afer sorting:\")\n",
        "print('-'.join(items))\n"
      ],
      "execution_count": null,
      "outputs": []
    },
    {
      "cell_type": "code",
      "metadata": {
        "id": "_MIwiVXzhEmk"
      },
      "source": [
        "#Q.no.9.\n",
        "def string_reverse(str1):\n",
        "\n",
        "    rstr1 = ''\n",
        "    index = len(str1)\n",
        "    while index > 0:\n",
        "        rstr1 += str1[ index - 1 ]\n",
        "        index = index - 1\n",
        "    return rstr1\n",
        "print(\"The reverse of the given string is\", string_reverse('EDCBA 4321'))\n"
      ],
      "execution_count": null,
      "outputs": []
    },
    {
      "cell_type": "code",
      "metadata": {
        "id": "0BYWEqS_hik5"
      },
      "source": [
        "#Q.no.10.\n",
        "def make_adder(x):\n",
        "      def adder(y):\n",
        "        return x+y\n",
        "      return adder\n",
        "a = make_adder(5)\n",
        "print(\"The value which is accessed to the function inside function is\", a(10))"
      ],
      "execution_count": null,
      "outputs": []
    },
    {
      "cell_type": "code",
      "metadata": {
        "id": "ufXBTu9PPwtH"
      },
      "source": [
        "#Q.no.11.\n",
        "a =lambda x,y: (x+y)\n",
        "x = int(input(\"Enter first number:\"))\n",
        "y = int(input(\"Enter second number:\"))\n",
        "c=2*x\n",
        "d=2*y\n",
        "result = a(c, d)\n",
        "print(\"The required Sum is:\", result)\n"
      ],
      "execution_count": null,
      "outputs": []
    },
    {
      "cell_type": "code",
      "metadata": {
        "id": "Vv9cD71uUNOT"
      },
      "source": [
        "#Q.no.12.\n",
        "%%writefile gcd.py\n",
        "def gcd(a,b):\n",
        "    \"\"\"Compute the greatest common divisor of a and b\"\"\"\n",
        "    while b > 0:\n",
        "        a, b = b, a % b\n",
        "    return a \n",
        "def lcm(a, b):\n",
        "    \"\"\"Compute the lowest common multiple of a and b\"\"\"\n",
        "    return a * b / gcd(a, b)\n"
      ],
      "execution_count": null,
      "outputs": []
    }
  ]
}